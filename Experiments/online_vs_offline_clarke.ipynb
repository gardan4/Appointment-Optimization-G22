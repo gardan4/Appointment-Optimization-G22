{
 "cells": [
  {
   "cell_type": "code",
   "id": "initial_id",
   "metadata": {
    "collapsed": true,
    "ExecuteTime": {
     "end_time": "2024-06-20T14:51:01.055441Z",
     "start_time": "2024-06-20T14:51:00.745485Z"
    }
   },
   "source": [
    "from Algorithms.clarke_wright import ClarkeWright\n",
    "from Algorithms.client import Client\n",
    "import pandas as pd\n",
    "from datetime import datetime, timedelta\n",
    "import random\n",
    "import names\n",
    "import json\n",
    "import numpy as np"
   ],
   "outputs": [],
   "execution_count": 1
  },
  {
   "metadata": {},
   "cell_type": "markdown",
   "source": "# Generate historized client data",
   "id": "c9917eb8baf2907f"
  },
  {
   "metadata": {
    "ExecuteTime": {
     "end_time": "2024-06-20T14:51:01.070465Z",
     "start_time": "2024-06-20T14:51:01.056947Z"
    }
   },
   "cell_type": "code",
   "source": [
    "def generate_clients(start_date, end_date, min_slots, max_slots, locations, max_timeslot_picks, timeslot_usage, num_clients=1):\n",
    "    date_format = \"%Y-%m-%d\"\n",
    "    start_date = datetime.strptime(start_date, date_format)\n",
    "    end_date = datetime.strptime(end_date, date_format)\n",
    "    date_range = (end_date - start_date).days\n",
    "    \n",
    "    timeslots = ['morning', 'evening']\n",
    "    clients = []\n",
    "\n",
    "    for _ in range(num_clients):\n",
    "        name = names.get_full_name()  # Generating random full names\n",
    "        location = random.choice(locations)\n",
    "        \n",
    "        while True:\n",
    "            # Generate all possible availability slots within the entire date range\n",
    "            possible_slots = []\n",
    "            for day in (start_date + timedelta(days=i) for i in range(date_range + 1)):\n",
    "                for timeslot in timeslots:\n",
    "                    slot = f\"{day.strftime(date_format)}_{timeslot}\"\n",
    "                    if timeslot_usage.get(slot, 0) < max_timeslot_picks:\n",
    "                        possible_slots.append(slot)\n",
    "\n",
    "            if len(possible_slots) < min_slots:\n",
    "                raise ValueError(f\"Unable to generate the minimum number of slots ({min_slots}) for client {name}.\")\n",
    "            \n",
    "            random.shuffle(possible_slots)\n",
    "            availability = possible_slots[:max_slots]\n",
    "\n",
    "            # Generate appointment day that is before or on the same day as the latest timeslot in availability\n",
    "            latest_slot_day = max(datetime.strptime(slot.split('_')[0], date_format) for slot in availability)\n",
    "            appointment_day = start_date + timedelta(days=random.randint(0, (latest_slot_day - start_date).days))\n",
    "            appointment_hour = random.randint(0, 23)\n",
    "            appointment_minute = random.randint(0, 59)\n",
    "            appointment_time = datetime.combine(appointment_day, datetime.min.time()) + timedelta(hours=appointment_hour, minutes=appointment_minute)\n",
    "            appointment_time_str = appointment_time.strftime(f\"{date_format} %H:%M:%S\")\n",
    "\n",
    "            for slot in availability:\n",
    "                timeslot_usage[slot] = timeslot_usage.get(slot, 0) + 1\n",
    "            \n",
    "            if len(availability) >= min_slots:\n",
    "                break\n",
    "\n",
    "        client = Client(name, location, availability, appointment_time_str)\n",
    "        clients.append(client)\n",
    "    \n",
    "    return clients"
   ],
   "id": "43ad6871aa521ff6",
   "outputs": [],
   "execution_count": 2
  },
  {
   "metadata": {},
   "cell_type": "markdown",
   "source": "# test online case",
   "id": "5be56b7e4fe39e5c"
  },
  {
   "metadata": {
    "ExecuteTime": {
     "end_time": "2024-06-20T14:52:29.198524Z",
     "start_time": "2024-06-20T14:52:29.192016Z"
    }
   },
   "cell_type": "code",
   "source": [
    "def get_definitive_timeslot_clarke(client, scheduled_definitive_appointments, distance_matrix_path):\n",
    "    old_routes = []\n",
    "    new_routes = []\n",
    "    slots = [slot for slot in client.availability if slot in scheduled_definitive_appointments]\n",
    "    \n",
    "    # If there are no appointments scheduled yet in the availability slots just schedule the client\n",
    "    if not slots:\n",
    "        slot = client.availability[0]\n",
    "        clarkewright = ClarkeWright([client])\n",
    "        clarkewright.solve(slot, distance_matrix_path)\n",
    "        scheduled_definitive_appointments[slot] = [[client], clarkewright.get_solution()]\n",
    "        return f\"Client {client.name} has been scheduled for {slot}\", scheduled_definitive_appointments\n",
    "    \n",
    "    # If there are appointments scheduled in the availability slots, try to add the client to the existing route with the minimal cost\n",
    "    for slot in slots:\n",
    "        old_routes.append([scheduled_definitive_appointments[slot], slot])\n",
    "        clients_new = scheduled_definitive_appointments[slot][0] + [client]\n",
    "        clarkewright_new = ClarkeWright(clients_new)\n",
    "        clarkewright_new.solve(slot, distance_matrix_path)\n",
    "        new_routes.append([[clients_new, clarkewright_new.get_solution()], slot])\n",
    "\n",
    "    # Compare the costs of all routes and pick the route with the smallest delta\n",
    "    min_delta = float('inf')\n",
    "    best_route = None\n",
    "    for old_route, new_route in zip(old_routes, new_routes):\n",
    "        \n",
    "        old_cost = old_route[0][1][1]  # Extracting the cost from the old route\n",
    "        new_cost = new_route[0][1][1]  # Extracting the cost from the new route\n",
    "        # convert string 1h34min to minutes\n",
    "        old_cost = int(old_cost.split('h')[0])*60 + int(old_cost.split('h')[1].split('min')[0])\n",
    "        new_cost = int(new_cost.split('h')[0])*60 + int(new_cost.split('h')[1].split('min')[0])\n",
    "        delta = new_cost - old_cost\n",
    "        if delta < min_delta:\n",
    "            min_delta = delta\n",
    "            best_route = new_route\n",
    "    \n",
    "    # Update the scheduled_definitive_appointments with the best route\n",
    "    if best_route:\n",
    "        slot = best_route[1]\n",
    "        scheduled_definitive_appointments[slot] = [best_route[0][0], best_route[0][1]]\n",
    "        return f\"Client {client.name} has been scheduled for {slot} with the minimal delta cost.\", scheduled_definitive_appointments"
   ],
   "id": "a7b8286a18e988a0",
   "outputs": [],
   "execution_count": 7
  },
  {
   "metadata": {
    "ExecuteTime": {
     "end_time": "2024-06-20T14:52:29.446662Z",
     "start_time": "2024-06-20T14:52:29.430153Z"
    }
   },
   "cell_type": "code",
   "source": [
    "\n",
    "config = {\n",
    "    'num_clients': 25,\n",
    "    'start_date': \"2024-06-01\",\n",
    "    'end_date': \"2024-06-14\",\n",
    "    'min_slots': 2,\n",
    "    'max_slots': 2,\n",
    "    'locations': ['Asten Heusden Ommel', 'Deurne Vlierden', 'Geldrop', 'Gemert Handel', 'Helmond',\n",
    "                  'Helmond Brandevoort', 'Mierlo', 'Nuenen Gerwen Nederwetten', 'Someren'],\n",
    "    'distance_matrix_path': \"..//Data//distance_matrix.csv\",\n",
    "    'batch_size': 7,  # For offline use case, processing batches of clients every 7 days\n",
    "    'max_timeslot_picks': 3  # Maximum number of timeslots a single slot can be picked\n",
    "}\n",
    "\n",
    "# random seed\n",
    "random.seed(42)"
   ],
   "id": "66b3246322b1b5e3",
   "outputs": [],
   "execution_count": 8
  },
  {
   "metadata": {
    "ExecuteTime": {
     "end_time": "2024-06-20T14:52:29.933211Z",
     "start_time": "2024-06-20T14:52:29.923696Z"
    }
   },
   "cell_type": "code",
   "source": [
    "def online_use_case(config):\n",
    "    scheduled_definitive_appointments = {}\n",
    "    timeslot_usage = {}\n",
    "    \n",
    "    for _ in range(config['num_clients']):\n",
    "        clients = generate_clients(config['start_date'], config['end_date'], config['min_slots'], config['max_slots'], config['locations'], config['max_timeslot_picks'], timeslot_usage, num_clients=1)\n",
    "        client = clients[0]\n",
    "        message, scheduled_definitive_appointments = get_definitive_timeslot_clarke(client, scheduled_definitive_appointments, config['distance_matrix_path'])\n",
    "    return scheduled_definitive_appointments\n",
    "        "
   ],
   "id": "4fcfca2e970c7eda",
   "outputs": [],
   "execution_count": 9
  },
  {
   "metadata": {
    "ExecuteTime": {
     "end_time": "2024-06-20T14:52:30.794034Z",
     "start_time": "2024-06-20T14:52:30.599490Z"
    }
   },
   "cell_type": "code",
   "source": [
    "print(\"Online Use Case Results:\")\n",
    "scheduled_definitive_appointments_online = online_use_case(config)\n",
    "print(scheduled_definitive_appointments_online)"
   ],
   "id": "806bffff9c588678",
   "outputs": [
    {
     "name": "stdout",
     "output_type": "stream",
     "text": [
      "Online Use Case Results:\n",
      "{'2024-06-04_evening': [[<Algorithms.client.Client object at 0x000001C6A4961840>, <Algorithms.client.Client object at 0x000001C6A4A6A890>], (['Mierlo', 'Gemert Handel', 'Helmond', 'Mierlo'], '3h0min')], '2024-06-07_evening': [[<Algorithms.client.Client object at 0x000001C6846C8AC0>, <Algorithms.client.Client object at 0x000001C6846CAA10>, <Algorithms.client.Client object at 0x000001C6846CBD30>], (['Mierlo', 'Helmond', 'Deurne Vlierden', 'Helmond', 'Mierlo'], '3h58min')], '2024-06-07_morning': [[<Algorithms.client.Client object at 0x000001C6A4954610>, <Algorithms.client.Client object at 0x000001C6846C9AB0>], (['Mierlo', 'Helmond Brandevoort', 'Asten Heusden Ommel', 'Mierlo'], '2h42min')], '2024-06-13_evening': [[<Algorithms.client.Client object at 0x000001C6A4961900>, <Algorithms.client.Client object at 0x000001C6A4A68AF0>], (['Mierlo', 'Nuenen Gerwen Nederwetten', 'Nuenen Gerwen Nederwetten', 'Mierlo'], '2h30min')], '2024-06-01_morning': [[<Algorithms.client.Client object at 0x000001C6846C9390>, <Algorithms.client.Client object at 0x000001C6846CA980>, <Algorithms.client.Client object at 0x000001C6A4A6AAD0>], (['Mierlo', 'Deurne Vlierden', 'Deurne Vlierden', 'Mierlo'], '2h38min')], '2024-06-05_evening': [[<Algorithms.client.Client object at 0x000001C6A4960C70>, <Algorithms.client.Client object at 0x000001C6A4954D60>], (['Mierlo', 'Asten Heusden Ommel', 'Mierlo', 'Mierlo'], '2h32min')], '2024-06-06_morning': [[<Algorithms.client.Client object at 0x000001C6A4961810>], (['Mierlo', 'Mierlo', 'Mierlo'], '1h0min')], '2024-06-10_morning': [[<Algorithms.client.Client object at 0x000001C6A4A688B0>], (['Mierlo', 'Asten Heusden Ommel', 'Mierlo'], '1h32min')], '2024-06-03_morning': [[<Algorithms.client.Client object at 0x000001C6A4A6A0B0>], (['Mierlo', 'Nuenen Gerwen Nederwetten', 'Mierlo'], '1h30min')], '2024-06-14_morning': [[<Algorithms.client.Client object at 0x000001C6A4A69210>], (['Mierlo', 'Deurne Vlierden', 'Mierlo'], '1h38min')], '2024-06-10_evening': [[<Algorithms.client.Client object at 0x000001C6A4A6B550>, <Algorithms.client.Client object at 0x000001C6A4A690C0>], (['Mierlo', 'Geldrop', 'Gemert Handel', 'Mierlo'], '3h8min')], '2024-06-12_morning': [[<Algorithms.client.Client object at 0x000001C6A4A68610>, <Algorithms.client.Client object at 0x000001C6A4A6A7A0>], (['Mierlo', 'Someren', 'Mierlo'], '1h34min')], '2024-06-11_evening': [[<Algorithms.client.Client object at 0x000001C6A4A6AB00>], (['Mierlo', 'Mierlo', 'Mierlo'], '1h0min')], '2024-06-12_evening': [[<Algorithms.client.Client object at 0x000001C6A4A68D60>], (['Mierlo', 'Deurne Vlierden', 'Mierlo'], '1h38min')], '2024-06-09_morning': [[<Algorithms.client.Client object at 0x000001C6A4A69030>], (['Mierlo', 'Helmond', 'Mierlo'], '1h28min')]}\n"
     ]
    }
   ],
   "execution_count": 10
  },
  {
   "metadata": {},
   "cell_type": "markdown",
   "source": "# test offline case",
   "id": "29f49b7bdcf04042"
  },
  {
   "metadata": {
    "ExecuteTime": {
     "end_time": "2024-06-20T14:52:36.927936Z",
     "start_time": "2024-06-20T14:52:36.907599Z"
    }
   },
   "cell_type": "code",
   "source": [
    "def offline_use_case(config):\n",
    "    scheduled_definitive_appointments = {}\n",
    "    timeslot_usage = {}\n",
    "    \n",
    "    clients = generate_clients(config['start_date'], config['end_date'], config['min_slots'], config['max_slots'], config['locations'], config['max_timeslot_picks'], timeslot_usage, num_clients=config['num_clients'])\n",
    "    for client in clients:\n",
    "        message, scheduled_definitive_appointments = get_definitive_timeslot_clarke(client, scheduled_definitive_appointments, config['distance_matrix_path'])\n",
    "    return scheduled_definitive_appointments"
   ],
   "id": "a70956501755f9e0",
   "outputs": [],
   "execution_count": 11
  },
  {
   "metadata": {
    "ExecuteTime": {
     "end_time": "2024-06-20T14:52:37.209543Z",
     "start_time": "2024-06-20T14:52:37.092202Z"
    }
   },
   "cell_type": "code",
   "source": [
    "print(\"\\nOffline Use Case Results:\")\n",
    "scheduled_definitive_appointments_offline = offline_use_case(config)\n",
    "print(scheduled_definitive_appointments_offline)"
   ],
   "id": "932f8a9fcca3f8c",
   "outputs": [
    {
     "name": "stdout",
     "output_type": "stream",
     "text": [
      "\n",
      "Offline Use Case Results:\n",
      "{'2024-06-14_evening': [[<Algorithms.client.Client object at 0x000001C6846CB7F0>, <Algorithms.client.Client object at 0x000001C6A4A69FF0>], (['Mierlo', 'Mierlo', 'Geldrop', 'Mierlo'], '2h18min')], '2024-06-05_morning': [[<Algorithms.client.Client object at 0x000001C6A4A69600>], (['Mierlo', 'Someren', 'Mierlo'], '1h34min')], '2024-06-09_morning': [[<Algorithms.client.Client object at 0x000001C6A4A68F70>, <Algorithms.client.Client object at 0x000001C6A4A69540>, <Algorithms.client.Client object at 0x000001C6A4A6A860>], (['Mierlo', 'Asten Heusden Ommel', 'Helmond', 'Mierlo'], '2h47min')], '2024-06-06_evening': [[<Algorithms.client.Client object at 0x000001C6A4A6B940>, <Algorithms.client.Client object at 0x000001C6A4A6A500>], (['Mierlo', 'Nuenen Gerwen Nederwetten', 'Mierlo'], '1h30min')], '2024-06-13_morning': [[<Algorithms.client.Client object at 0x000001C6A4A6A530>], (['Mierlo', 'Helmond Brandevoort', 'Mierlo'], '1h16min')], '2024-06-10_evening': [[<Algorithms.client.Client object at 0x000001C6A4A681C0>, <Algorithms.client.Client object at 0x000001C6A4A6A6B0>], (['Mierlo', 'Someren', 'Mierlo'], '1h34min')], '2024-06-02_evening': [[<Algorithms.client.Client object at 0x000001C6A4A68C10>, <Algorithms.client.Client object at 0x000001C6A4A6A740>], (['Mierlo', 'Geldrop', 'Deurne Vlierden', 'Mierlo'], '2h49min')], '2024-06-11_evening': [[<Algorithms.client.Client object at 0x000001C6A4A68D00>, <Algorithms.client.Client object at 0x000001C6A4A68FA0>, <Algorithms.client.Client object at 0x000001C6A4A6A9E0>], (['Mierlo', 'Mierlo', 'Helmond', 'Nuenen Gerwen Nederwetten', 'Mierlo'], '3h43min')], '2024-06-01_morning': [[<Algorithms.client.Client object at 0x000001C6A4A6AC50>, <Algorithms.client.Client object at 0x000001C6A4A6AAA0>, <Algorithms.client.Client object at 0x000001C6A4A69690>], (['Mierlo', 'Helmond', 'Asten Heusden Ommel', 'Helmond', 'Mierlo'], '4h2min')], '2024-06-08_morning': [[<Algorithms.client.Client object at 0x000001C6A4A68190>, <Algorithms.client.Client object at 0x000001C6A4A683D0>], (['Mierlo', 'Mierlo', 'Gemert Handel', 'Mierlo'], '2h56min')], '2024-06-05_evening': [[<Algorithms.client.Client object at 0x000001C6A4A6A9B0>, <Algorithms.client.Client object at 0x000001C6A4A6A8F0>], (['Mierlo', 'Nuenen Gerwen Nederwetten', 'Gemert Handel', 'Mierlo'], '3h10min')], '2024-06-12_morning': [[<Algorithms.client.Client object at 0x000001C6A4A68C40>], (['Mierlo', 'Geldrop', 'Mierlo'], '1h18min')], '2024-06-11_morning': [[<Algorithms.client.Client object at 0x000001C6A4A6AB30>], (['Mierlo', 'Helmond Brandevoort', 'Mierlo'], '1h16min')]}\n"
     ]
    }
   ],
   "execution_count": 12
  },
  {
   "metadata": {},
   "cell_type": "code",
   "source": "",
   "id": "2a32877616e66d7a",
   "outputs": [],
   "execution_count": null
  }
 ],
 "metadata": {
  "kernelspec": {
   "display_name": "Python 3",
   "language": "python",
   "name": "python3"
  },
  "language_info": {
   "codemirror_mode": {
    "name": "ipython",
    "version": 2
   },
   "file_extension": ".py",
   "mimetype": "text/x-python",
   "name": "python",
   "nbconvert_exporter": "python",
   "pygments_lexer": "ipython2",
   "version": "2.7.6"
  }
 },
 "nbformat": 4,
 "nbformat_minor": 5
}

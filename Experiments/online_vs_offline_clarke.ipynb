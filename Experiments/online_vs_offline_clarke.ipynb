{
 "cells": [
  {
   "cell_type": "code",
   "id": "initial_id",
   "metadata": {
    "collapsed": true,
    "ExecuteTime": {
     "end_time": "2024-06-19T13:38:29.659462Z",
     "start_time": "2024-06-19T13:38:29.652952Z"
    }
   },
   "source": [
    "from Algorithms.clarke_wright import ClarkeWright\n",
    "from Algorithms.client import Client\n",
    "import pandas as pd\n",
    "from datetime import datetime, timedelta\n",
    "import random\n",
    "import names\n",
    "import json\n",
    "import numpy as np"
   ],
   "outputs": [],
   "execution_count": 37
  },
  {
   "metadata": {},
   "cell_type": "markdown",
   "source": "# Generate historized client data",
   "id": "c9917eb8baf2907f"
  },
  {
   "metadata": {
    "ExecuteTime": {
     "end_time": "2024-06-19T13:38:29.674685Z",
     "start_time": "2024-06-19T13:38:29.660463Z"
    }
   },
   "cell_type": "code",
   "source": [
    "def generate_clients(start_date, end_date, min_slots, max_slots, locations, max_timeslot_picks, timeslot_usage, num_clients=1):\n",
    "    date_format = \"%Y-%m-%d\"\n",
    "    start_date = datetime.strptime(start_date, date_format)\n",
    "    end_date = datetime.strptime(end_date, date_format)\n",
    "    date_range = (end_date - start_date).days\n",
    "    \n",
    "    timeslots = ['morning', 'evening']\n",
    "    clients = []\n",
    "\n",
    "    for _ in range(num_clients):\n",
    "        name = names.get_full_name()  # Generating random full names\n",
    "        location = random.choice(locations)\n",
    "        \n",
    "        # Generate appointment day\n",
    "        appointment_day = start_date + timedelta(days=random.randint(0, date_range))\n",
    "        appointment_hour = random.randint(0, 23)\n",
    "        appointment_minute = random.randint(0, 59)\n",
    "        appointment_time = datetime.combine(appointment_day, datetime.min.time()) + timedelta(hours=appointment_hour, minutes=appointment_minute)\n",
    "        appointment_time_str = appointment_time.strftime(f\"{date_format} %H:%M:%S\")\n",
    "\n",
    "        num_slots = random.randint(min_slots, max_slots)\n",
    "        availability = []\n",
    "\n",
    "        # Generate unique availability slots within 2 weeks after the appointment day or until end_date\n",
    "        for _ in range(num_slots):\n",
    "            while True:\n",
    "                max_avail_day = min(appointment_day + timedelta(days=14), end_date)\n",
    "                if max_avail_day <= appointment_day:\n",
    "                    break\n",
    "                day = appointment_day + timedelta(days=random.randint(1, (max_avail_day - appointment_day).days))\n",
    "                available_timeslots = [timeslot for timeslot in timeslots if timeslot_usage.get(f\"{day.strftime(date_format)}_{timeslot}\", 0) < max_timeslot_picks]\n",
    "                \n",
    "                if not available_timeslots:\n",
    "                    break\n",
    "                \n",
    "                timeslot = random.choice(available_timeslots)\n",
    "                slot = f\"{day.strftime(date_format)}_{timeslot}\"\n",
    "\n",
    "                # Ensure the new slot is unique\n",
    "                if slot not in availability:\n",
    "                    availability.append(slot)\n",
    "                    timeslot_usage[slot] = timeslot_usage.get(slot, 0) + 1\n",
    "                    break\n",
    "        \n",
    "        client = Client(name, location, availability, appointment_time_str)\n",
    "        clients.append(client)\n",
    "    \n",
    "    return clients"
   ],
   "id": "43ad6871aa521ff6",
   "outputs": [],
   "execution_count": 38
  },
  {
   "metadata": {},
   "cell_type": "markdown",
   "source": "# test online case",
   "id": "5be56b7e4fe39e5c"
  },
  {
   "metadata": {
    "ExecuteTime": {
     "end_time": "2024-06-19T13:47:34.261628Z",
     "start_time": "2024-06-19T13:47:34.244118Z"
    }
   },
   "cell_type": "code",
   "source": [
    "def get_definitive_timeslot_clarke(client, scheduled_definitive_appointments, distance_matrix_path):\n",
    "    old_routes = []\n",
    "    new_routes = []\n",
    "    slots = [slot for slot in client.availability if slot in scheduled_definitive_appointments]\n",
    "    \n",
    "    # If there are no appointments scheduled yet in the availability slots just schedule the client\n",
    "    if not slots:\n",
    "        slot = client.availability[0]\n",
    "        clarkewright = ClarkeWright([client])\n",
    "        clarkewright.solve(slot, distance_matrix_path)\n",
    "        scheduled_definitive_appointments[slot] = [[client], clarkewright.get_solution()]\n",
    "        return f\"Client {client.name} has been scheduled for {slot}\", scheduled_definitive_appointments\n",
    "    \n",
    "    # If there are appointments scheduled in the availability slots, try to add the client to the existing route with the minimal cost\n",
    "    for slot in slots:\n",
    "        old_routes.append([scheduled_definitive_appointments[slot], slot])\n",
    "        clients_new = scheduled_definitive_appointments[slot][0] + [client]\n",
    "        print(f\"slot: {slot}\")\n",
    "        for client in clients_new:\n",
    "            print(f\"client: {client.name}, location: {client.location}, availability: {client.availability}, appointment_time: {client.appointment_time}\")\n",
    "        clarkewright_new = ClarkeWright(clients_new)\n",
    "        clarkewright_new.solve(slot, distance_matrix_path)\n",
    "        new_routes.append([[clients_new, clarkewright_new.get_solution()], slot])\n",
    "\n",
    "    # Compare the costs of all routes and pick the route with the smallest delta\n",
    "    min_delta = float('inf')\n",
    "    best_route = None\n",
    "    print(old_routes)\n",
    "    print(new_routes)\n",
    "    for old_route, new_route in zip(old_routes, new_routes):\n",
    "        old_cost = old_route[0][1][1]  # Extracting the cost from the old route\n",
    "        new_cost = new_route[0][1][1]  # Extracting the cost from the new route\n",
    "        delta = new_cost - old_cost\n",
    "        if delta < min_delta:\n",
    "            min_delta = delta\n",
    "            best_route = new_route\n",
    "    \n",
    "    # Update the scheduled_definitive_appointments with the best route\n",
    "    if best_route:\n",
    "        slot = best_route[1]\n",
    "        scheduled_definitive_appointments[slot] = [best_route[0][0], best_route[0][1]]\n",
    "        return f\"Client {client.name} has been scheduled for {slot} with the minimal delta cost.\", scheduled_definitive_appointments"
   ],
   "id": "a7b8286a18e988a0",
   "outputs": [],
   "execution_count": 47
  },
  {
   "metadata": {
    "ExecuteTime": {
     "end_time": "2024-06-19T13:47:34.386470Z",
     "start_time": "2024-06-19T13:47:34.369438Z"
    }
   },
   "cell_type": "code",
   "source": [
    "\n",
    "config = {\n",
    "    'num_clients': 50,\n",
    "    'start_date': \"2024-06-01\",\n",
    "    'end_date': \"2024-06-07\",\n",
    "    'min_slots': 2,\n",
    "    'max_slots': 2,\n",
    "    'locations': ['Asten Heusden Ommel', 'Deurne Vlierden', 'Geldrop', 'Gemert Handel', 'Helmond',\n",
    "                  'Helmond Brandevoort', 'Mierlo', 'Nuenen Gerwen Nederwetten', 'Someren'],\n",
    "    'distance_matrix_path': \"..//Data//distance_matrix.csv\",\n",
    "    'batch_size': 7,  # For offline use case, processing batches of clients every 7 days\n",
    "    'max_timeslot_picks': 3  # Maximum number of timeslots a single slot can be picked\n",
    "}\n",
    "\n",
    "# random seed\n",
    "random.seed(42)"
   ],
   "id": "66b3246322b1b5e3",
   "outputs": [],
   "execution_count": 48
  },
  {
   "metadata": {
    "ExecuteTime": {
     "end_time": "2024-06-19T13:47:34.571722Z",
     "start_time": "2024-06-19T13:47:34.559213Z"
    }
   },
   "cell_type": "code",
   "source": [
    "def online_use_case(config):\n",
    "    scheduled_definitive_appointments = {}\n",
    "    timeslot_usage = {}\n",
    "    \n",
    "    for _ in range(config['num_clients']):\n",
    "        clients = generate_clients(config['start_date'], config['end_date'], config['min_slots'], config['max_slots'], config['locations'], config['max_timeslot_picks'], timeslot_usage, num_clients=1)\n",
    "        client = clients[0]\n",
    "        print(f\"names: {client.name}, location: {client.location}, availability: {client.availability}, appointment_time: {client.appointment_time}\")\n",
    "        message, scheduled_definitive_appointments = get_definitive_timeslot_clarke(client, scheduled_definitive_appointments, config['distance_matrix_path'])\n",
    "        print(message)\n",
    "        \n",
    "        print(scheduled_definitive_appointments)"
   ],
   "id": "4fcfca2e970c7eda",
   "outputs": [],
   "execution_count": 49
  },
  {
   "metadata": {
    "ExecuteTime": {
     "end_time": "2024-06-19T13:47:35.558781Z",
     "start_time": "2024-06-19T13:47:35.500756Z"
    }
   },
   "cell_type": "code",
   "source": [
    "print(\"Online Use Case Results:\")\n",
    "online_use_case(config)"
   ],
   "id": "806bffff9c588678",
   "outputs": [
    {
     "name": "stdout",
     "output_type": "stream",
     "text": [
      "Online Use Case Results:\n",
      "names: James Lawrence, location: Gemert Handel, availability: ['2024-06-07_evening', '2024-06-03_morning'], appointment_time: 2024-06-02 23:06:00\n",
      "Client James Lawrence has been scheduled for 2024-06-07_evening\n",
      "{'2024-06-07_evening': [[<Algorithms.client.Client object at 0x0000012D81E02EC0>], (['Mierlo', 'Gemert Handel', 'Mierlo'], 176.0)]}\n",
      "names: Charles Whaley, location: Asten Heusden Ommel, availability: ['2024-06-06_evening', '2024-06-07_morning'], appointment_time: 2024-06-05 06:45:00\n",
      "Client Charles Whaley has been scheduled for 2024-06-06_evening\n",
      "{'2024-06-07_evening': [[<Algorithms.client.Client object at 0x0000012D81E02EC0>], (['Mierlo', 'Gemert Handel', 'Mierlo'], 176.0)], '2024-06-06_evening': [[<Algorithms.client.Client object at 0x0000012D82236680>], (['Mierlo', 'Asten Heusden Ommel', 'Mierlo'], 152.0)]}\n",
      "names: Travis Bowen, location: Geldrop, availability: ['2024-06-06_morning', '2024-06-05_evening'], appointment_time: 2024-06-02 10:06:00\n",
      "Client Travis Bowen has been scheduled for 2024-06-06_morning\n",
      "{'2024-06-07_evening': [[<Algorithms.client.Client object at 0x0000012D81E02EC0>], (['Mierlo', 'Gemert Handel', 'Mierlo'], 176.0)], '2024-06-06_evening': [[<Algorithms.client.Client object at 0x0000012D82236680>], (['Mierlo', 'Asten Heusden Ommel', 'Mierlo'], 152.0)], '2024-06-06_morning': [[<Algorithms.client.Client object at 0x0000012D82235BA0>], (['Mierlo', 'Geldrop', 'Mierlo'], 138.0)]}\n",
      "names: Meghan Sartin, location: Someren, availability: ['2024-06-07_evening', '2024-06-06_morning'], appointment_time: 2024-06-01 12:05:00\n",
      "slot: 2024-06-07_evening\n",
      "client: James Lawrence, location: Gemert Handel, availability: ['2024-06-07_evening'], appointment_time: 2024-06-02 23:06:00\n",
      "client: Meghan Sartin, location: Someren, availability: ['2024-06-07_evening', '2024-06-06_morning'], appointment_time: 2024-06-01 12:05:00\n",
      "slot: 2024-06-06_morning\n",
      "client: Travis Bowen, location: Geldrop, availability: ['2024-06-06_morning'], appointment_time: 2024-06-02 10:06:00\n",
      "client: Meghan Sartin, location: Someren, availability: ['2024-06-07_evening'], appointment_time: 2024-06-01 12:05:00\n",
      "[[[[<Algorithms.client.Client object at 0x0000012D81E02EC0>], (['Mierlo', 'Gemert Handel', 'Mierlo'], 176.0)], '2024-06-07_evening'], [[[<Algorithms.client.Client object at 0x0000012D82235BA0>], (['Mierlo', 'Geldrop', 'Mierlo'], 138.0)], '2024-06-06_morning']]\n",
      "[[[[<Algorithms.client.Client object at 0x0000012D81E02EC0>, <Algorithms.client.Client object at 0x0000012D82236E30>], (['Mierlo', 'Gemert Handel', 'Someren', 'Mierlo'], 255.0)], '2024-06-07_evening'], [[[<Algorithms.client.Client object at 0x0000012D82235BA0>, <Algorithms.client.Client object at 0x0000012D82236E30>], (['Mierlo', 'Geldrop', 'Mierlo'], 138.0)], '2024-06-06_morning']]\n",
      "Client Meghan Sartin has been scheduled for 2024-06-06_morning with the minimal delta cost.\n",
      "{'2024-06-07_evening': [[<Algorithms.client.Client object at 0x0000012D81E02EC0>], (['Mierlo', 'Gemert Handel', 'Mierlo'], 176.0)], '2024-06-06_evening': [[<Algorithms.client.Client object at 0x0000012D82236680>], (['Mierlo', 'Asten Heusden Ommel', 'Mierlo'], 152.0)], '2024-06-06_morning': [[<Algorithms.client.Client object at 0x0000012D82235BA0>, <Algorithms.client.Client object at 0x0000012D82236E30>], (['Mierlo', 'Geldrop', 'Mierlo'], 138.0)]}\n",
      "names: John Murray, location: Helmond, availability: ['2024-06-05_evening', '2024-06-03_evening'], appointment_time: 2024-06-01 07:55:00\n",
      "Client John Murray has been scheduled for 2024-06-05_evening\n",
      "{'2024-06-07_evening': [[<Algorithms.client.Client object at 0x0000012D81E02EC0>], (['Mierlo', 'Gemert Handel', 'Mierlo'], 176.0)], '2024-06-06_evening': [[<Algorithms.client.Client object at 0x0000012D82236680>], (['Mierlo', 'Asten Heusden Ommel', 'Mierlo'], 152.0)], '2024-06-06_morning': [[<Algorithms.client.Client object at 0x0000012D82235BA0>, <Algorithms.client.Client object at 0x0000012D82236E30>], (['Mierlo', 'Geldrop', 'Mierlo'], 138.0)], '2024-06-05_evening': [[<Algorithms.client.Client object at 0x0000012D82236C50>], (['Mierlo', 'Helmond', 'Mierlo'], 148.0)]}\n",
      "names: Kimberly Snyder, location: Deurne Vlierden, availability: ['2024-06-06_evening', '2024-06-07_evening'], appointment_time: 2024-06-05 20:10:00\n",
      "slot: 2024-06-06_evening\n",
      "client: Charles Whaley, location: Asten Heusden Ommel, availability: ['2024-06-06_evening'], appointment_time: 2024-06-05 06:45:00\n",
      "client: Kimberly Snyder, location: Deurne Vlierden, availability: ['2024-06-06_evening', '2024-06-07_evening'], appointment_time: 2024-06-05 20:10:00\n",
      "slot: 2024-06-07_evening\n",
      "client: James Lawrence, location: Gemert Handel, availability: ['2024-06-07_evening'], appointment_time: 2024-06-02 23:06:00\n",
      "client: Kimberly Snyder, location: Deurne Vlierden, availability: ['2024-06-06_evening'], appointment_time: 2024-06-05 20:10:00\n",
      "[[[[<Algorithms.client.Client object at 0x0000012D82236680>], (['Mierlo', 'Asten Heusden Ommel', 'Mierlo'], 152.0)], '2024-06-06_evening'], [[[<Algorithms.client.Client object at 0x0000012D81E02EC0>], (['Mierlo', 'Gemert Handel', 'Mierlo'], 176.0)], '2024-06-07_evening']]\n",
      "[[[[<Algorithms.client.Client object at 0x0000012D82236680>, <Algorithms.client.Client object at 0x0000012D82235F90>], (['Mierlo', 'Asten Heusden Ommel', 'Deurne Vlierden', 'Mierlo'], 220.0)], '2024-06-06_evening'], [[[<Algorithms.client.Client object at 0x0000012D81E02EC0>, <Algorithms.client.Client object at 0x0000012D82235F90>], (['Mierlo', 'Gemert Handel', 'Mierlo'], 176.0)], '2024-06-07_evening']]\n",
      "Client Kimberly Snyder has been scheduled for 2024-06-07_evening with the minimal delta cost.\n",
      "{'2024-06-07_evening': [[<Algorithms.client.Client object at 0x0000012D81E02EC0>, <Algorithms.client.Client object at 0x0000012D82235F90>], (['Mierlo', 'Gemert Handel', 'Mierlo'], 176.0)], '2024-06-06_evening': [[<Algorithms.client.Client object at 0x0000012D82236680>], (['Mierlo', 'Asten Heusden Ommel', 'Mierlo'], 152.0)], '2024-06-06_morning': [[<Algorithms.client.Client object at 0x0000012D82235BA0>, <Algorithms.client.Client object at 0x0000012D82236E30>], (['Mierlo', 'Geldrop', 'Mierlo'], 138.0)], '2024-06-05_evening': [[<Algorithms.client.Client object at 0x0000012D82236C50>], (['Mierlo', 'Helmond', 'Mierlo'], 148.0)]}\n",
      "names: Curtis Books, location: Asten Heusden Ommel, availability: ['2024-06-06_evening', '2024-06-03_morning'], appointment_time: 2024-06-02 01:51:00\n",
      "slot: 2024-06-06_evening\n",
      "client: Charles Whaley, location: Asten Heusden Ommel, availability: ['2024-06-06_evening'], appointment_time: 2024-06-05 06:45:00\n",
      "client: Curtis Books, location: Asten Heusden Ommel, availability: ['2024-06-06_evening', '2024-06-03_morning'], appointment_time: 2024-06-02 01:51:00\n",
      "[[[[<Algorithms.client.Client object at 0x0000012D82236680>], (['Mierlo', 'Asten Heusden Ommel', 'Mierlo'], 152.0)], '2024-06-06_evening']]\n",
      "[[[[<Algorithms.client.Client object at 0x0000012D82236680>, <Algorithms.client.Client object at 0x0000012D82235C00>], (['Mierlo', 'Asten Heusden Ommel', 'Asten Heusden Ommel', 'Mierlo'], nan)], '2024-06-06_evening']]\n"
     ]
    },
    {
     "ename": "TypeError",
     "evalue": "cannot unpack non-iterable NoneType object",
     "output_type": "error",
     "traceback": [
      "\u001B[1;31m---------------------------------------------------------------------------\u001B[0m",
      "\u001B[1;31mTypeError\u001B[0m                                 Traceback (most recent call last)",
      "Cell \u001B[1;32mIn[50], line 2\u001B[0m\n\u001B[0;32m      1\u001B[0m \u001B[38;5;28mprint\u001B[39m(\u001B[38;5;124m\"\u001B[39m\u001B[38;5;124mOnline Use Case Results:\u001B[39m\u001B[38;5;124m\"\u001B[39m)\n\u001B[1;32m----> 2\u001B[0m \u001B[43monline_use_case\u001B[49m\u001B[43m(\u001B[49m\u001B[43mconfig\u001B[49m\u001B[43m)\u001B[49m\n",
      "Cell \u001B[1;32mIn[49], line 9\u001B[0m, in \u001B[0;36monline_use_case\u001B[1;34m(config)\u001B[0m\n\u001B[0;32m      7\u001B[0m client \u001B[38;5;241m=\u001B[39m clients[\u001B[38;5;241m0\u001B[39m]\n\u001B[0;32m      8\u001B[0m \u001B[38;5;28mprint\u001B[39m(\u001B[38;5;124mf\u001B[39m\u001B[38;5;124m\"\u001B[39m\u001B[38;5;124mnames: \u001B[39m\u001B[38;5;132;01m{\u001B[39;00mclient\u001B[38;5;241m.\u001B[39mname\u001B[38;5;132;01m}\u001B[39;00m\u001B[38;5;124m, location: \u001B[39m\u001B[38;5;132;01m{\u001B[39;00mclient\u001B[38;5;241m.\u001B[39mlocation\u001B[38;5;132;01m}\u001B[39;00m\u001B[38;5;124m, availability: \u001B[39m\u001B[38;5;132;01m{\u001B[39;00mclient\u001B[38;5;241m.\u001B[39mavailability\u001B[38;5;132;01m}\u001B[39;00m\u001B[38;5;124m, appointment_time: \u001B[39m\u001B[38;5;132;01m{\u001B[39;00mclient\u001B[38;5;241m.\u001B[39mappointment_time\u001B[38;5;132;01m}\u001B[39;00m\u001B[38;5;124m\"\u001B[39m)\n\u001B[1;32m----> 9\u001B[0m message, scheduled_definitive_appointments \u001B[38;5;241m=\u001B[39m get_definitive_timeslot_clarke(client, scheduled_definitive_appointments, config[\u001B[38;5;124m'\u001B[39m\u001B[38;5;124mdistance_matrix_path\u001B[39m\u001B[38;5;124m'\u001B[39m])\n\u001B[0;32m     10\u001B[0m \u001B[38;5;28mprint\u001B[39m(message)\n\u001B[0;32m     12\u001B[0m \u001B[38;5;28mprint\u001B[39m(scheduled_definitive_appointments)\n",
      "\u001B[1;31mTypeError\u001B[0m: cannot unpack non-iterable NoneType object"
     ]
    }
   ],
   "execution_count": 50
  },
  {
   "metadata": {},
   "cell_type": "markdown",
   "source": "# test offline case",
   "id": "29f49b7bdcf04042"
  },
  {
   "metadata": {},
   "cell_type": "code",
   "source": [
    "def offline_use_case(config):\n",
    "    scheduled_definitive_appointments = {}\n",
    "    timeslot_usage = {}\n",
    "    \n",
    "    clients = generate_clients(config['start_date'], config['end_date'], config['min_slots'], config['max_slots'], config['locations'], config['max_timeslot_picks'], timeslot_usage, num_clients=config['num_clients'])\n",
    "    for client in clients:\n",
    "        message, scheduled_definitive_appointments = get_definitive_timeslot_clarke(client, scheduled_definitive_appointments, config['distance_matrix_path'])\n",
    "        print(message)\n",
    "        print(scheduled_definitive_appointments)"
   ],
   "id": "a70956501755f9e0",
   "outputs": [],
   "execution_count": null
  },
  {
   "metadata": {},
   "cell_type": "code",
   "source": [
    "print(\"\\nOffline Use Case Results:\")\n",
    "offline_use_case(config)"
   ],
   "id": "932f8a9fcca3f8c",
   "outputs": [],
   "execution_count": null
  },
  {
   "metadata": {},
   "cell_type": "code",
   "source": "",
   "id": "2a32877616e66d7a",
   "outputs": [],
   "execution_count": null
  }
 ],
 "metadata": {
  "kernelspec": {
   "display_name": "Python 3",
   "language": "python",
   "name": "python3"
  },
  "language_info": {
   "codemirror_mode": {
    "name": "ipython",
    "version": 2
   },
   "file_extension": ".py",
   "mimetype": "text/x-python",
   "name": "python",
   "nbconvert_exporter": "python",
   "pygments_lexer": "ipython2",
   "version": "2.7.6"
  }
 },
 "nbformat": 4,
 "nbformat_minor": 5
}

{
 "cells": [
  {
   "cell_type": "code",
   "id": "initial_id",
   "metadata": {
    "collapsed": true,
    "ExecuteTime": {
     "end_time": "2024-06-20T14:40:23.984742Z",
     "start_time": "2024-06-20T14:40:23.975233Z"
    }
   },
   "source": [
    "from Algorithms.clarke_wright import ClarkeWright\n",
    "from Algorithms.client import Client\n",
    "import pandas as pd\n",
    "from datetime import datetime, timedelta\n",
    "import random\n",
    "import names\n",
    "import json\n",
    "import numpy as np"
   ],
   "outputs": [],
   "execution_count": 53
  },
  {
   "metadata": {},
   "cell_type": "markdown",
   "source": "# Generate historized client data",
   "id": "c9917eb8baf2907f"
  },
  {
   "metadata": {
    "ExecuteTime": {
     "end_time": "2024-06-20T14:40:24.016281Z",
     "start_time": "2024-06-20T14:40:24.001771Z"
    }
   },
   "cell_type": "code",
   "source": [
    "def generate_clients(start_date, end_date, min_slots, max_slots, locations, max_timeslot_picks, timeslot_usage, num_clients=1):\n",
    "    date_format = \"%Y-%m-%d\"\n",
    "    start_date = datetime.strptime(start_date, date_format)\n",
    "    end_date = datetime.strptime(end_date, date_format)\n",
    "    date_range = (end_date - start_date).days\n",
    "    \n",
    "    timeslots = ['morning', 'evening']\n",
    "    clients = []\n",
    "\n",
    "    for _ in range(num_clients):\n",
    "        name = names.get_full_name()  # Generating random full names\n",
    "        location = random.choice(locations)\n",
    "        \n",
    "        while True:\n",
    "            # Generate all possible availability slots within the entire date range\n",
    "            possible_slots = []\n",
    "            for day in (start_date + timedelta(days=i) for i in range(date_range + 1)):\n",
    "                for timeslot in timeslots:\n",
    "                    slot = f\"{day.strftime(date_format)}_{timeslot}\"\n",
    "                    if timeslot_usage.get(slot, 0) < max_timeslot_picks:\n",
    "                        possible_slots.append(slot)\n",
    "\n",
    "            if len(possible_slots) < min_slots:\n",
    "                raise ValueError(f\"Unable to generate the minimum number of slots ({min_slots}) for client {name}.\")\n",
    "            \n",
    "            random.shuffle(possible_slots)\n",
    "            availability = possible_slots[:max_slots]\n",
    "\n",
    "            # Generate appointment day that is before or on the same day as the latest timeslot in availability\n",
    "            latest_slot_day = max(datetime.strptime(slot.split('_')[0], date_format) for slot in availability)\n",
    "            appointment_day = start_date + timedelta(days=random.randint(0, (latest_slot_day - start_date).days))\n",
    "            appointment_hour = random.randint(0, 23)\n",
    "            appointment_minute = random.randint(0, 59)\n",
    "            appointment_time = datetime.combine(appointment_day, datetime.min.time()) + timedelta(hours=appointment_hour, minutes=appointment_minute)\n",
    "            appointment_time_str = appointment_time.strftime(f\"{date_format} %H:%M:%S\")\n",
    "\n",
    "            for slot in availability:\n",
    "                timeslot_usage[slot] = timeslot_usage.get(slot, 0) + 1\n",
    "            \n",
    "            if len(availability) >= min_slots:\n",
    "                break\n",
    "\n",
    "        client = Client(name, location, availability, appointment_time_str)\n",
    "        clients.append(client)\n",
    "    \n",
    "    return clients"
   ],
   "id": "43ad6871aa521ff6",
   "outputs": [],
   "execution_count": 54
  },
  {
   "metadata": {},
   "cell_type": "markdown",
   "source": "# test online case",
   "id": "5be56b7e4fe39e5c"
  },
  {
   "metadata": {
    "ExecuteTime": {
     "end_time": "2024-06-20T14:40:24.047819Z",
     "start_time": "2024-06-20T14:40:24.028793Z"
    }
   },
   "cell_type": "code",
   "source": [
    "def get_definitive_timeslot_clarke(client, scheduled_definitive_appointments, distance_matrix_path):\n",
    "    old_routes = []\n",
    "    new_routes = []\n",
    "    slots = [slot for slot in client.availability if slot in scheduled_definitive_appointments]\n",
    "    \n",
    "    # If there are no appointments scheduled yet in the availability slots just schedule the client\n",
    "    if not slots:\n",
    "        slot = client.availability[0]\n",
    "        clarkewright = ClarkeWright([client])\n",
    "        clarkewright.solve(slot, distance_matrix_path)\n",
    "        scheduled_definitive_appointments[slot] = [[client], clarkewright.get_solution()]\n",
    "        return f\"Client {client.name} has been scheduled for {slot}\", scheduled_definitive_appointments\n",
    "    \n",
    "    # If there are appointments scheduled in the availability slots, try to add the client to the existing route with the minimal cost\n",
    "    for slot in slots:\n",
    "        old_routes.append([scheduled_definitive_appointments[slot], slot])\n",
    "        clients_new = scheduled_definitive_appointments[slot][0] + [client]\n",
    "        clarkewright_new = ClarkeWright(clients_new)\n",
    "        clarkewright_new.solve(slot, distance_matrix_path)\n",
    "        new_routes.append([[clients_new, clarkewright_new.get_solution()], slot])\n",
    "\n",
    "    # Compare the costs of all routes and pick the route with the smallest delta\n",
    "    min_delta = float('inf')\n",
    "    best_route = None\n",
    "    for old_route, new_route in zip(old_routes, new_routes):\n",
    "        old_cost = old_route[0][1][1]  # Extracting the cost from the old route\n",
    "        new_cost = new_route[0][1][1]  # Extracting the cost from the new route\n",
    "        delta = new_cost - old_cost\n",
    "        if delta < min_delta:\n",
    "            min_delta = delta\n",
    "            best_route = new_route\n",
    "    \n",
    "    # Update the scheduled_definitive_appointments with the best route\n",
    "    if best_route:\n",
    "        slot = best_route[1]\n",
    "        scheduled_definitive_appointments[slot] = [best_route[0][0], best_route[0][1]]\n",
    "        return f\"Client {client.name} has been scheduled for {slot} with the minimal delta cost.\", scheduled_definitive_appointments"
   ],
   "id": "a7b8286a18e988a0",
   "outputs": [],
   "execution_count": 55
  },
  {
   "metadata": {
    "ExecuteTime": {
     "end_time": "2024-06-20T14:40:24.063363Z",
     "start_time": "2024-06-20T14:40:24.048822Z"
    }
   },
   "cell_type": "code",
   "source": [
    "\n",
    "config = {\n",
    "    'num_clients': 25,\n",
    "    'start_date': \"2024-06-01\",\n",
    "    'end_date': \"2024-06-14\",\n",
    "    'min_slots': 2,\n",
    "    'max_slots': 2,\n",
    "    'locations': ['Asten Heusden Ommel', 'Deurne Vlierden', 'Geldrop', 'Gemert Handel', 'Helmond',\n",
    "                  'Helmond Brandevoort', 'Mierlo', 'Nuenen Gerwen Nederwetten', 'Someren'],\n",
    "    'distance_matrix_path': \"..//Data//distance_matrix.csv\",\n",
    "    'batch_size': 7,  # For offline use case, processing batches of clients every 7 days\n",
    "    'max_timeslot_picks': 3  # Maximum number of timeslots a single slot can be picked\n",
    "}\n",
    "\n",
    "# random seed\n",
    "random.seed(42)"
   ],
   "id": "66b3246322b1b5e3",
   "outputs": [],
   "execution_count": 56
  },
  {
   "metadata": {
    "ExecuteTime": {
     "end_time": "2024-06-20T14:40:24.078880Z",
     "start_time": "2024-06-20T14:40:24.064364Z"
    }
   },
   "cell_type": "code",
   "source": [
    "def online_use_case(config):\n",
    "    scheduled_definitive_appointments = {}\n",
    "    timeslot_usage = {}\n",
    "    \n",
    "    for _ in range(config['num_clients']):\n",
    "        clients = generate_clients(config['start_date'], config['end_date'], config['min_slots'], config['max_slots'], config['locations'], config['max_timeslot_picks'], timeslot_usage, num_clients=1)\n",
    "        client = clients[0]\n",
    "        message, scheduled_definitive_appointments = get_definitive_timeslot_clarke(client, scheduled_definitive_appointments, config['distance_matrix_path'])\n",
    "    return scheduled_definitive_appointments\n",
    "        "
   ],
   "id": "4fcfca2e970c7eda",
   "outputs": [],
   "execution_count": 57
  },
  {
   "metadata": {
    "ExecuteTime": {
     "end_time": "2024-06-20T14:40:24.247338Z",
     "start_time": "2024-06-20T14:40:24.080390Z"
    }
   },
   "cell_type": "code",
   "source": [
    "print(\"Online Use Case Results:\")\n",
    "scheduled_definitive_appointments_online = online_use_case(config)\n",
    "print(scheduled_definitive_appointments_online)"
   ],
   "id": "806bffff9c588678",
   "outputs": [
    {
     "name": "stdout",
     "output_type": "stream",
     "text": [
      "Online Use Case Results:\n",
      "{'2024-06-04_evening': [[<Algorithms.client.Client object at 0x00000143EB26F9D0>, <Algorithms.client.Client object at 0x00000143EB69D870>], (['Mierlo', 'Gemert Handel', 'Helmond', 'Mierlo'], 240.0)], '2024-06-07_evening': [[<Algorithms.client.Client object at 0x00000143EB26ED40>, <Algorithms.client.Client object at 0x00000143EB324F10>, <Algorithms.client.Client object at 0x00000143EB69DCF0>], (['Mierlo', 'Helmond', 'Deurne Vlierden', 'Helmond', 'Mierlo'], 298.0)], '2024-06-07_morning': [[<Algorithms.client.Client object at 0x00000143EB26F220>, <Algorithms.client.Client object at 0x00000143EB26D7E0>], (['Mierlo', 'Helmond Brandevoort', 'Asten Heusden Ommel', 'Mierlo'], 222)], '2024-06-13_evening': [[<Algorithms.client.Client object at 0x00000143EB26F2E0>, <Algorithms.client.Client object at 0x00000143EB69ED70>], (['Mierlo', 'Nuenen Gerwen Nederwetten', 'Nuenen Gerwen Nederwetten', 'Mierlo'], 210)], '2024-06-01_morning': [[<Algorithms.client.Client object at 0x00000143EB26FCD0>, <Algorithms.client.Client object at 0x00000143EB26EC20>, <Algorithms.client.Client object at 0x00000143EB69D780>], (['Mierlo', 'Deurne Vlierden', 'Deurne Vlierden', 'Mierlo'], 218)], '2024-06-05_evening': [[<Algorithms.client.Client object at 0x00000143EB26C9D0>, <Algorithms.client.Client object at 0x00000143EB26F2B0>], (['Mierlo', 'Asten Heusden Ommel', 'Mierlo', 'Mierlo'], 212)], '2024-06-06_morning': [[<Algorithms.client.Client object at 0x00000143EB26C7F0>], (['Mierlo', 'Mierlo', 'Mierlo'], 120)], '2024-06-10_morning': [[<Algorithms.client.Client object at 0x00000143EB69CDF0>], (['Mierlo', 'Asten Heusden Ommel', 'Mierlo'], 152)], '2024-06-03_morning': [[<Algorithms.client.Client object at 0x00000143EB69CEB0>], (['Mierlo', 'Nuenen Gerwen Nederwetten', 'Mierlo'], 150)], '2024-06-14_morning': [[<Algorithms.client.Client object at 0x00000143EB69D540>], (['Mierlo', 'Deurne Vlierden', 'Mierlo'], 158)], '2024-06-10_evening': [[<Algorithms.client.Client object at 0x00000143EB69F340>, <Algorithms.client.Client object at 0x00000143EB69F6D0>], (['Mierlo', 'Geldrop', 'Gemert Handel', 'Mierlo'], 248)], '2024-06-12_morning': [[<Algorithms.client.Client object at 0x00000143EB69C4F0>, <Algorithms.client.Client object at 0x00000143EB69DFF0>], (['Mierlo', 'Someren', 'Mierlo'], 154)], '2024-06-11_evening': [[<Algorithms.client.Client object at 0x00000143EB69CAC0>], (['Mierlo', 'Mierlo', 'Mierlo'], 120)], '2024-06-12_evening': [[<Algorithms.client.Client object at 0x00000143EB69D690>], (['Mierlo', 'Deurne Vlierden', 'Mierlo'], 158)], '2024-06-09_morning': [[<Algorithms.client.Client object at 0x00000143EB69F1C0>], (['Mierlo', 'Helmond', 'Mierlo'], 148.0)]}\n"
     ]
    }
   ],
   "execution_count": 58
  },
  {
   "metadata": {},
   "cell_type": "markdown",
   "source": "# test offline case",
   "id": "29f49b7bdcf04042"
  },
  {
   "metadata": {
    "ExecuteTime": {
     "end_time": "2024-06-20T14:40:24.263413Z",
     "start_time": "2024-06-20T14:40:24.248339Z"
    }
   },
   "cell_type": "code",
   "source": [
    "def offline_use_case(config):\n",
    "    scheduled_definitive_appointments = {}\n",
    "    timeslot_usage = {}\n",
    "    \n",
    "    clients = generate_clients(config['start_date'], config['end_date'], config['min_slots'], config['max_slots'], config['locations'], config['max_timeslot_picks'], timeslot_usage, num_clients=config['num_clients'])\n",
    "    for client in clients:\n",
    "        message, scheduled_definitive_appointments = get_definitive_timeslot_clarke(client, scheduled_definitive_appointments, config['distance_matrix_path'])\n",
    "    return scheduled_definitive_appointments"
   ],
   "id": "a70956501755f9e0",
   "outputs": [],
   "execution_count": 59
  },
  {
   "metadata": {
    "ExecuteTime": {
     "end_time": "2024-06-20T14:40:24.371949Z",
     "start_time": "2024-06-20T14:40:24.264415Z"
    }
   },
   "cell_type": "code",
   "source": [
    "print(\"\\nOffline Use Case Results:\")\n",
    "scheduled_definitive_appointments_offline = offline_use_case(config)\n",
    "print(scheduled_definitive_appointments_offline)"
   ],
   "id": "932f8a9fcca3f8c",
   "outputs": [
    {
     "name": "stdout",
     "output_type": "stream",
     "text": [
      "\n",
      "Offline Use Case Results:\n",
      "{'2024-06-14_evening': [[<Algorithms.client.Client object at 0x00000143EB4F5180>, <Algorithms.client.Client object at 0x00000143EB69F460>], (['Mierlo', 'Mierlo', 'Geldrop', 'Mierlo'], 198)], '2024-06-05_morning': [[<Algorithms.client.Client object at 0x00000143EB69F2B0>], (['Mierlo', 'Someren', 'Mierlo'], 154)], '2024-06-09_morning': [[<Algorithms.client.Client object at 0x00000143EB69CFD0>, <Algorithms.client.Client object at 0x00000143EB69D4B0>, <Algorithms.client.Client object at 0x00000143EB69DAB0>], (['Mierlo', 'Asten Heusden Ommel', 'Helmond', 'Mierlo'], 227.0)], '2024-06-06_evening': [[<Algorithms.client.Client object at 0x00000143EB69ED40>, <Algorithms.client.Client object at 0x00000143EB69F160>], (['Mierlo', 'Nuenen Gerwen Nederwetten', 'Mierlo'], 150)], '2024-06-13_morning': [[<Algorithms.client.Client object at 0x00000143EB69D180>], (['Mierlo', 'Helmond Brandevoort', 'Mierlo'], 136)], '2024-06-10_evening': [[<Algorithms.client.Client object at 0x00000143EB69C2E0>, <Algorithms.client.Client object at 0x00000143EB69D3F0>], (['Mierlo', 'Someren', 'Mierlo'], 154)], '2024-06-02_evening': [[<Algorithms.client.Client object at 0x00000143EB69D9C0>, <Algorithms.client.Client object at 0x00000143EB69DFC0>], (['Mierlo', 'Geldrop', 'Deurne Vlierden', 'Mierlo'], 229)], '2024-06-11_evening': [[<Algorithms.client.Client object at 0x00000143EB69FAF0>, <Algorithms.client.Client object at 0x00000143EB69F790>, <Algorithms.client.Client object at 0x00000143EB69DA20>], (['Mierlo', 'Mierlo', 'Helmond', 'Nuenen Gerwen Nederwetten', 'Mierlo'], 283.0)], '2024-06-01_morning': [[<Algorithms.client.Client object at 0x00000143EB69DEA0>, <Algorithms.client.Client object at 0x00000143EB69C3A0>, <Algorithms.client.Client object at 0x00000143EB69D480>], (['Mierlo', 'Helmond', 'Asten Heusden Ommel', 'Helmond', 'Mierlo'], 302.0)], '2024-06-08_morning': [[<Algorithms.client.Client object at 0x00000143EB69FD00>, <Algorithms.client.Client object at 0x00000143EB69D2A0>], (['Mierlo', 'Mierlo', 'Gemert Handel', 'Mierlo'], 236)], '2024-06-05_evening': [[<Algorithms.client.Client object at 0x00000143EB69F2E0>, <Algorithms.client.Client object at 0x00000143EB69F490>], (['Mierlo', 'Nuenen Gerwen Nederwetten', 'Gemert Handel', 'Mierlo'], 250)], '2024-06-12_morning': [[<Algorithms.client.Client object at 0x00000143EB69C880>], (['Mierlo', 'Geldrop', 'Mierlo'], 138)], '2024-06-11_morning': [[<Algorithms.client.Client object at 0x00000143EB69D4E0>], (['Mierlo', 'Helmond Brandevoort', 'Mierlo'], 136)]}\n"
     ]
    }
   ],
   "execution_count": 60
  },
  {
   "metadata": {
    "ExecuteTime": {
     "end_time": "2024-06-20T14:40:24.387462Z",
     "start_time": "2024-06-20T14:40:24.372949Z"
    }
   },
   "cell_type": "code",
   "source": "",
   "id": "2a32877616e66d7a",
   "outputs": [],
   "execution_count": 60
  }
 ],
 "metadata": {
  "kernelspec": {
   "display_name": "Python 3",
   "language": "python",
   "name": "python3"
  },
  "language_info": {
   "codemirror_mode": {
    "name": "ipython",
    "version": 2
   },
   "file_extension": ".py",
   "mimetype": "text/x-python",
   "name": "python",
   "nbconvert_exporter": "python",
   "pygments_lexer": "ipython2",
   "version": "2.7.6"
  }
 },
 "nbformat": 4,
 "nbformat_minor": 5
}

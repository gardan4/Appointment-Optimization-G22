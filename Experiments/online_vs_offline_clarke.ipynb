{
 "cells": [
  {
   "cell_type": "code",
   "id": "initial_id",
   "metadata": {
    "collapsed": true,
    "ExecuteTime": {
     "end_time": "2024-06-12T13:45:50.321032Z",
     "start_time": "2024-06-12T13:45:50.304018Z"
    }
   },
   "source": [
    "from Algorithms.clarke_wright import ClarkeWright\n",
    "from Algorithms.client import Client\n",
    "import pandas as pd\n",
    "from datetime import datetime, timedelta\n",
    "import random\n",
    "import names\n",
    "import json\n",
    "import numpy as np"
   ],
   "outputs": [],
   "execution_count": 37
  },
  {
   "metadata": {},
   "cell_type": "markdown",
   "source": "# Generate historized client data",
   "id": "c9917eb8baf2907f"
  },
  {
   "metadata": {
    "ExecuteTime": {
     "end_time": "2024-06-12T14:08:07.437948Z",
     "start_time": "2024-06-12T14:08:07.215485Z"
    }
   },
   "cell_type": "code",
   "source": [
    "\n",
    "def generate_client_list(num_clients=50, start_date=\"2024-01-01\", end_date=\"2024-12-31\", \n",
    "                         min_slots=1, max_slots=3, locations=None):\n",
    "    if locations is None:\n",
    "        locations = ['Geldrop', 'Helmond', 'Someren', 'Deurne Vlierden', 'Mierlo']\n",
    "    \n",
    "    date_format = \"%Y-%m-%d\"\n",
    "    start_date = datetime.strptime(start_date, date_format)\n",
    "    end_date = datetime.strptime(end_date, date_format)\n",
    "    date_range = (end_date - start_date).days\n",
    "\n",
    "    timeslots = ['morning', 'evening']\n",
    "    clients = []\n",
    "\n",
    "    for _ in range(num_clients):\n",
    "        name = names.get_full_name()  # Generating random full names\n",
    "        location = random.choice(locations)\n",
    "        \n",
    "        # Generate appointment day\n",
    "        appointment_day = start_date + timedelta(days=random.randint(0, date_range))\n",
    "        appointment_hour = random.randint(0, 23)\n",
    "        appointment_minute = random.randint(0, 59)\n",
    "        appointment_time = datetime.combine(appointment_day, datetime.min.time()) + timedelta(hours=appointment_hour, minutes=appointment_minute)\n",
    "        appointment_time_str = appointment_time.strftime(f\"{date_format} %H:%M:%S\")\n",
    "\n",
    "        num_slots = random.randint(min_slots, max_slots)\n",
    "        availability = []\n",
    "\n",
    "        # Generate unique availability slots within 2 weeks after the appointment day or until end_date\n",
    "        for _ in range(num_slots):\n",
    "            while True:\n",
    "                max_avail_day = min(appointment_day + timedelta(days=14), end_date)\n",
    "                if max_avail_day <= appointment_day:\n",
    "                    break\n",
    "                day = appointment_day + timedelta(days=random.randint(1, (max_avail_day - appointment_day).days))\n",
    "                timeslot = random.choice(timeslots)\n",
    "                slot = f\"{day.strftime(date_format)}_{timeslot}\"\n",
    "\n",
    "                # Ensure the new slot is unique\n",
    "                if slot not in availability:\n",
    "                    availability.append(slot)\n",
    "                    break\n",
    "        \n",
    "        client = Client(name, location, availability, appointment_time_str)\n",
    "        clients.append(client)\n",
    "\n",
    "    return clients\n",
    "\n",
    "\n",
    "config = {\n",
    "    'num_clients': 50,\n",
    "    'start_date': \"2024-06-01\",\n",
    "    'end_date': \"2024-06-07\",\n",
    "    'min_slots': 2,\n",
    "    'max_slots': 2,\n",
    "    'locations': ['Asten Heusden Ommel', 'Deurne Vlierden', 'Geldrop', 'Gemert Handel', 'Helmond',\n",
    "                  'Helmond Brandevoort', 'Mierlo', 'Nuenen Gerwen Nederwetten', 'Someren'],\n",
    "    'distance_matrix_path': \"..//Data//distance_matrix.csv\",\n",
    "    'batch_size': 7  # For offline use case, processing batches of clients every 7 days\n",
    "}\n",
    "\n",
    "# random seed\n",
    "random.seed(42)\n",
    " \n",
    "# Example usage:\n",
    "clients = generate_client_list(config['num_clients'], config['start_date'], config['end_date'], config['min_slots'],\n",
    "                               config['max_slots'], config['locations'])\n",
    "for i, client in enumerate(clients):\n",
    "    print(f\"Client {i + 1}: {client.name}, {client.location}, {client.availability}, {client.appointment_time}\")"
   ],
   "id": "43ad6871aa521ff6",
   "outputs": [
    {
     "name": "stdout",
     "output_type": "stream",
     "text": [
      "Client 1: James Lawrence, Gemert Handel, ['2024-06-07_evening', '2024-06-03_morning'], 2024-06-02 23:06:00\n",
      "Client 2: Charles Whaley, Asten Heusden Ommel, ['2024-06-06_evening', '2024-06-07_morning'], 2024-06-05 06:45:00\n",
      "Client 3: Travis Bowen, Geldrop, ['2024-06-06_morning', '2024-06-05_evening'], 2024-06-02 10:06:00\n",
      "Client 4: Meghan Sartin, Someren, ['2024-06-07_evening', '2024-06-06_morning'], 2024-06-01 12:05:00\n",
      "Client 5: John Murray, Helmond, ['2024-06-05_evening', '2024-06-03_evening'], 2024-06-01 07:55:00\n",
      "Client 6: Kimberly Snyder, Deurne Vlierden, ['2024-06-06_evening', '2024-06-07_evening'], 2024-06-05 20:10:00\n",
      "Client 7: Curtis Books, Asten Heusden Ommel, ['2024-06-06_evening', '2024-06-03_morning'], 2024-06-02 01:51:00\n",
      "Client 8: Deborah Ponce, Nuenen Gerwen Nederwetten, ['2024-06-07_evening', '2024-06-05_morning'], 2024-06-02 08:08:00\n",
      "Client 9: Carl Robinson, Asten Heusden Ommel, [], 2024-06-07 03:09:00\n",
      "Client 10: Cathy Lamb, Nuenen Gerwen Nederwetten, ['2024-06-06_evening', '2024-06-07_morning'], 2024-06-05 08:35:00\n",
      "Client 11: Louise Zamora, Helmond, ['2024-06-07_morning', '2024-06-06_evening'], 2024-06-05 05:32:00\n",
      "Client 12: Jonathan Rennie, Someren, ['2024-06-02_morning', '2024-06-04_evening'], 2024-06-01 19:20:00\n",
      "Client 13: John Goya, Deurne Vlierden, ['2024-06-06_morning', '2024-06-03_evening'], 2024-06-01 23:31:00\n",
      "Client 14: Christopher Bartkowiak, Mierlo, ['2024-06-05_evening', '2024-06-07_evening'], 2024-06-02 17:48:00\n",
      "Client 15: Thomas Anderson, Asten Heusden Ommel, ['2024-06-06_morning', '2024-06-07_morning'], 2024-06-05 17:14:00\n",
      "Client 16: Daniel Wang, Someren, ['2024-06-04_evening', '2024-06-06_morning'], 2024-06-02 23:59:00\n",
      "Client 17: Robert Pace, Mierlo, ['2024-06-07_morning', '2024-06-05_evening'], 2024-06-04 14:55:00\n",
      "Client 18: Doreen Allen, Gemert Handel, ['2024-06-06_morning', '2024-06-05_evening'], 2024-06-02 17:28:00\n",
      "Client 19: Wade White, Someren, ['2024-06-02_morning', '2024-06-03_evening'], 2024-06-01 01:41:00\n",
      "Client 20: Crystal Munez, Asten Heusden Ommel, ['2024-06-05_evening', '2024-06-07_evening'], 2024-06-02 12:00:00\n",
      "Client 21: David Jordan, Asten Heusden Ommel, ['2024-06-07_morning', '2024-06-06_evening'], 2024-06-05 23:34:00\n",
      "Client 22: John Quinones, Geldrop, ['2024-06-05_morning', '2024-06-06_morning'], 2024-06-01 19:04:00\n",
      "Client 23: Russell Montoya, Someren, ['2024-06-05_evening', '2024-06-07_morning'], 2024-06-03 08:13:00\n",
      "Client 24: Lois Kafer, Deurne Vlierden, ['2024-06-02_morning', '2024-06-06_evening'], 2024-06-01 14:39:00\n",
      "Client 25: Darnell Leng, Gemert Handel, ['2024-06-06_morning', '2024-06-05_evening'], 2024-06-03 09:10:00\n",
      "Client 26: Rex Otten, Geldrop, ['2024-06-06_morning', '2024-06-06_evening'], 2024-06-03 09:38:00\n",
      "Client 27: Helga Pritt, Deurne Vlierden, ['2024-06-07_morning', '2024-06-07_evening'], 2024-06-06 13:53:00\n",
      "Client 28: Michael Wider, Geldrop, ['2024-06-06_evening', '2024-06-06_morning'], 2024-06-05 01:53:00\n",
      "Client 29: Cheryl Roes, Asten Heusden Ommel, ['2024-06-04_evening', '2024-06-07_morning'], 2024-06-03 06:43:00\n",
      "Client 30: Daryl Granthan, Geldrop, ['2024-06-06_morning', '2024-06-07_morning'], 2024-06-04 00:11:00\n",
      "Client 31: Marcy Starkweather, Gemert Handel, ['2024-06-04_morning', '2024-06-03_morning'], 2024-06-02 14:22:00\n",
      "Client 32: Diane Rasor, Helmond, ['2024-06-06_morning', '2024-06-04_evening'], 2024-06-03 20:32:00\n",
      "Client 33: Brandon Pasey, Asten Heusden Ommel, ['2024-06-07_evening', '2024-06-05_morning'], 2024-06-01 19:27:00\n",
      "Client 34: Augusta Henderson, Asten Heusden Ommel, ['2024-06-07_evening', '2024-06-07_morning'], 2024-06-06 13:00:00\n",
      "Client 35: Cindy Galarza, Helmond Brandevoort, ['2024-06-05_evening', '2024-06-07_evening'], 2024-06-04 22:18:00\n",
      "Client 36: Eugene Welch, Someren, [], 2024-06-07 00:19:00\n",
      "Client 37: Frank Hinojosa, Helmond Brandevoort, ['2024-06-07_evening', '2024-06-07_morning'], 2024-06-04 14:28:00\n",
      "Client 38: Paul Heffner, Helmond Brandevoort, ['2024-06-03_morning', '2024-06-02_morning'], 2024-06-01 07:43:00\n",
      "Client 39: Yvonne Mccarver, Nuenen Gerwen Nederwetten, ['2024-06-07_evening', '2024-06-06_evening'], 2024-06-04 20:36:00\n",
      "Client 40: William Rigby, Deurne Vlierden, [], 2024-06-07 13:14:00\n",
      "Client 41: Linda Palmer, Deurne Vlierden, ['2024-06-07_evening', '2024-06-06_evening'], 2024-06-04 04:51:00\n",
      "Client 42: Briana Lally, Nuenen Gerwen Nederwetten, ['2024-06-07_evening', '2024-06-07_morning'], 2024-06-04 08:48:00\n",
      "Client 43: Anne Perrone, Gemert Handel, ['2024-06-05_morning', '2024-06-05_evening'], 2024-06-03 10:20:00\n",
      "Client 44: Lee Anderson, Mierlo, ['2024-06-04_morning', '2024-06-07_evening'], 2024-06-03 17:29:00\n",
      "Client 45: Casey Rockett, Mierlo, ['2024-06-06_evening', '2024-06-07_morning'], 2024-06-04 00:22:00\n",
      "Client 46: Jessica Estes, Asten Heusden Ommel, ['2024-06-07_morning', '2024-06-06_morning'], 2024-06-04 10:42:00\n",
      "Client 47: Guillermo Jameson, Asten Heusden Ommel, ['2024-06-05_morning', '2024-06-02_evening'], 2024-06-01 20:27:00\n",
      "Client 48: Joyce Gould, Helmond Brandevoort, [], 2024-06-07 12:17:00\n",
      "Client 49: Effie Witt, Someren, ['2024-06-07_morning', '2024-06-02_morning'], 2024-06-01 11:14:00\n",
      "Client 50: Mathew Bolin, Gemert Handel, ['2024-06-07_morning', '2024-06-06_evening'], 2024-06-02 15:42:00\n"
     ]
    }
   ],
   "execution_count": 61
  },
  {
   "metadata": {},
   "cell_type": "markdown",
   "source": "# test online case",
   "id": "5be56b7e4fe39e5c"
  },
  {
   "metadata": {
    "ExecuteTime": {
     "end_time": "2024-06-12T14:10:56.494995Z",
     "start_time": "2024-06-12T14:10:56.478978Z"
    }
   },
   "cell_type": "code",
   "source": [
    "def get_definitive_timeslot_clarke(selected_slots, user_data, appointments_data, distance_matrix_path):\n",
    "    \"\"\"\n",
    "    :param selected_slots:\n",
    "    :param user_data:\n",
    "    :param appointments_data: List of current appointments data\n",
    "    :param distance_matrix_path: Path to the distance matrix CSV file\n",
    "    :return: The definitive timeslot based on the selected slots and user data\n",
    "    \"\"\"\n",
    "    appointments_in_slot_new = []\n",
    "    appointments_in_slot_old = []\n",
    "\n",
    "    appointments_in_slot_new.append({\n",
    "        \"username\": user_data['username'],\n",
    "        \"location\": user_data['location'],\n",
    "        \"appointment_date\": selected_slots\n",
    "    })\n",
    "\n",
    "    solutions_new = []\n",
    "    solutions_old = []\n",
    "    for slot in selected_slots:\n",
    "        slot_empty = True\n",
    "        for row in appointments_data:\n",
    "            if row['username'] == user_data['username'] and row['appointment_date'][0] == slot and row['location'] == user_data['location']:\n",
    "                return f\"You already have an appointment in this slot: ({slot}). Please select another slot.\", appointments_data\n",
    "            if row['appointment_date'][0] == slot:\n",
    "                appointments_in_slot_old.append(row)\n",
    "                appointments_in_slot_new.append(row)\n",
    "                slot_empty = False\n",
    "        \n",
    "        if slot_empty:\n",
    "            # If this is the first appointment for the selected slot\n",
    "            appointments_data.append({\n",
    "                \"username\": user_data['username'],\n",
    "                \"location\": user_data['location'],\n",
    "                \"appointment_date\": [slot]\n",
    "            })\n",
    "            return f\"First appointment made at slot: {slot}\", appointments_data\n",
    "\n",
    "        clients_old = [Client(appointment['username'], appointment['location'], appointment['appointment_date']) for appointment in appointments_in_slot_old]\n",
    "        clarke_old = ClarkeWright(clients_old)\n",
    "        clarke_old.solve(slot, distance_matrix_path)\n",
    "        solutions_old.append([clarke_old.get_solution(), slot])\n",
    "\n",
    "        clients_new = [Client(appointment['username'], appointment['location'], appointment['appointment_date']) for appointment in appointments_in_slot_new]\n",
    "        clarke_new = ClarkeWright(clients_new)\n",
    "        clarke_new.solve(slot, distance_matrix_path)\n",
    "        solutions_new.append([clarke_new.get_solution(), slot])\n",
    "\n",
    "    smallest_time_increase_route = []\n",
    "    time_increase = np.inf\n",
    "    for i in range(len(solutions_old)):\n",
    "        if solutions_new[i][0][1] - solutions_old[i][0][1] < time_increase:\n",
    "            time_increase = solutions_new[i][0][1] - solutions_old[i][0][1]\n",
    "            smallest_time_increase_route = solutions_new[i]\n",
    "\n",
    "    appointments_data.append({\"username\": user_data['username'], \"location\": user_data['location'], \"appointment_date\": [smallest_time_increase_route[1]]})\n",
    "\n",
    "    return f\"Appointment made at slot: {smallest_time_increase_route[1]}\", appointments_data\n",
    "\n",
    "\n",
    "def online_use_case(clients, distance_matrix_path):\n",
    "    appointments_data = []\n",
    "\n",
    "    for client in sorted(clients, key=lambda x: x.appointment_time):\n",
    "        selected_slots = client.availability\n",
    "        user_data = {\n",
    "            \"username\": client.name,\n",
    "            \"location\": client.location\n",
    "        }\n",
    "        message, appointments_data = get_definitive_timeslot_clarke(selected_slots, user_data, appointments_data, distance_matrix_path)\n",
    "        # print client num and message\n",
    "        print(f\"Client {clients.index(client) + 1}: {message}\")"
   ],
   "id": "a7b8286a18e988a0",
   "outputs": [],
   "execution_count": 64
  },
  {
   "metadata": {
    "ExecuteTime": {
     "end_time": "2024-06-12T14:12:58.499783Z",
     "start_time": "2024-06-12T14:12:58.388145Z"
    }
   },
   "cell_type": "code",
   "source": [
    "print(\"Online Use Case Results:\")\n",
    "online_use_case(clients, config['distance_matrix_path'])"
   ],
   "id": "806bffff9c588678",
   "outputs": [
    {
     "name": "stdout",
     "output_type": "stream",
     "text": [
      "Online Use Case Results:\n",
      "Client 19: First appointment made at slot: 2024-06-02_morning\n",
      "Client 38: First appointment made at slot: 2024-06-03_morning\n",
      "Client 5: First appointment made at slot: 2024-06-05_evening\n",
      "Client 49: First appointment made at slot: 2024-06-07_morning\n",
      "Client 4: First appointment made at slot: 2024-06-07_evening\n",
      "Client 24: First appointment made at slot: 2024-06-06_evening\n",
      "Client 22: First appointment made at slot: 2024-06-05_morning\n",
      "Client 12: First appointment made at slot: 2024-06-04_evening\n",
      "Client 33: Appointment made at slot: 2024-06-07_evening\n",
      "Client 47: First appointment made at slot: 2024-06-02_evening\n",
      "Client 13: First appointment made at slot: 2024-06-06_morning\n",
      "Client 7: Appointment made at slot: 2024-06-06_evening\n",
      "Client 8: Appointment made at slot: 2024-06-05_morning\n",
      "Client 3: Appointment made at slot: 2024-06-06_morning\n",
      "Client 20: Appointment made at slot: 2024-06-07_evening\n",
      "Client 31: First appointment made at slot: 2024-06-04_morning\n",
      "Client 50: Appointment made at slot: 2024-06-06_evening\n",
      "Client 18: Appointment made at slot: 2024-06-06_morning\n",
      "Client 14: Appointment made at slot: 2024-06-07_evening\n"
     ]
    },
    {
     "ename": "IndexError",
     "evalue": "list index out of range",
     "output_type": "error",
     "traceback": [
      "\u001B[1;31m---------------------------------------------------------------------------\u001B[0m",
      "\u001B[1;31mIndexError\u001B[0m                                Traceback (most recent call last)",
      "Cell \u001B[1;32mIn[66], line 2\u001B[0m\n\u001B[0;32m      1\u001B[0m \u001B[38;5;28mprint\u001B[39m(\u001B[38;5;124m\"\u001B[39m\u001B[38;5;124mOnline Use Case Results:\u001B[39m\u001B[38;5;124m\"\u001B[39m)\n\u001B[1;32m----> 2\u001B[0m \u001B[43monline_use_case\u001B[49m\u001B[43m(\u001B[49m\u001B[43mclients\u001B[49m\u001B[43m,\u001B[49m\u001B[43m \u001B[49m\u001B[43mconfig\u001B[49m\u001B[43m[\u001B[49m\u001B[38;5;124;43m'\u001B[39;49m\u001B[38;5;124;43mdistance_matrix_path\u001B[39;49m\u001B[38;5;124;43m'\u001B[39;49m\u001B[43m]\u001B[49m\u001B[43m)\u001B[49m\n",
      "Cell \u001B[1;32mIn[64], line 70\u001B[0m, in \u001B[0;36monline_use_case\u001B[1;34m(clients, distance_matrix_path)\u001B[0m\n\u001B[0;32m     65\u001B[0m selected_slots \u001B[38;5;241m=\u001B[39m client\u001B[38;5;241m.\u001B[39mavailability\n\u001B[0;32m     66\u001B[0m user_data \u001B[38;5;241m=\u001B[39m {\n\u001B[0;32m     67\u001B[0m     \u001B[38;5;124m\"\u001B[39m\u001B[38;5;124musername\u001B[39m\u001B[38;5;124m\"\u001B[39m: client\u001B[38;5;241m.\u001B[39mname,\n\u001B[0;32m     68\u001B[0m     \u001B[38;5;124m\"\u001B[39m\u001B[38;5;124mlocation\u001B[39m\u001B[38;5;124m\"\u001B[39m: client\u001B[38;5;241m.\u001B[39mlocation\n\u001B[0;32m     69\u001B[0m }\n\u001B[1;32m---> 70\u001B[0m message, appointments_data \u001B[38;5;241m=\u001B[39m \u001B[43mget_definitive_timeslot_clarke\u001B[49m\u001B[43m(\u001B[49m\u001B[43mselected_slots\u001B[49m\u001B[43m,\u001B[49m\u001B[43m \u001B[49m\u001B[43muser_data\u001B[49m\u001B[43m,\u001B[49m\u001B[43m \u001B[49m\u001B[43mappointments_data\u001B[49m\u001B[43m,\u001B[49m\u001B[43m \u001B[49m\u001B[43mdistance_matrix_path\u001B[49m\u001B[43m)\u001B[49m\n\u001B[0;32m     71\u001B[0m \u001B[38;5;66;03m# print client num and message\u001B[39;00m\n\u001B[0;32m     72\u001B[0m \u001B[38;5;28mprint\u001B[39m(\u001B[38;5;124mf\u001B[39m\u001B[38;5;124m\"\u001B[39m\u001B[38;5;124mClient \u001B[39m\u001B[38;5;132;01m{\u001B[39;00mclients\u001B[38;5;241m.\u001B[39mindex(client)\u001B[38;5;250m \u001B[39m\u001B[38;5;241m+\u001B[39m\u001B[38;5;250m \u001B[39m\u001B[38;5;241m1\u001B[39m\u001B[38;5;132;01m}\u001B[39;00m\u001B[38;5;124m: \u001B[39m\u001B[38;5;132;01m{\u001B[39;00mmessage\u001B[38;5;132;01m}\u001B[39;00m\u001B[38;5;124m\"\u001B[39m)\n",
      "Cell \u001B[1;32mIn[64], line 41\u001B[0m, in \u001B[0;36mget_definitive_timeslot_clarke\u001B[1;34m(selected_slots, user_data, appointments_data, distance_matrix_path)\u001B[0m\n\u001B[0;32m     39\u001B[0m clients_old \u001B[38;5;241m=\u001B[39m [Client(appointment[\u001B[38;5;124m'\u001B[39m\u001B[38;5;124musername\u001B[39m\u001B[38;5;124m'\u001B[39m], appointment[\u001B[38;5;124m'\u001B[39m\u001B[38;5;124mlocation\u001B[39m\u001B[38;5;124m'\u001B[39m], appointment[\u001B[38;5;124m'\u001B[39m\u001B[38;5;124mappointment_date\u001B[39m\u001B[38;5;124m'\u001B[39m]) \u001B[38;5;28;01mfor\u001B[39;00m appointment \u001B[38;5;129;01min\u001B[39;00m appointments_in_slot_old]\n\u001B[0;32m     40\u001B[0m clarke_old \u001B[38;5;241m=\u001B[39m ClarkeWright(clients_old)\n\u001B[1;32m---> 41\u001B[0m \u001B[43mclarke_old\u001B[49m\u001B[38;5;241;43m.\u001B[39;49m\u001B[43msolve\u001B[49m\u001B[43m(\u001B[49m\u001B[43mslot\u001B[49m\u001B[43m,\u001B[49m\u001B[43m \u001B[49m\u001B[43mdistance_matrix_path\u001B[49m\u001B[43m)\u001B[49m\n\u001B[0;32m     42\u001B[0m solutions_old\u001B[38;5;241m.\u001B[39mappend([clarke_old\u001B[38;5;241m.\u001B[39mget_solution(), slot])\n\u001B[0;32m     44\u001B[0m clients_new \u001B[38;5;241m=\u001B[39m [Client(appointment[\u001B[38;5;124m'\u001B[39m\u001B[38;5;124musername\u001B[39m\u001B[38;5;124m'\u001B[39m], appointment[\u001B[38;5;124m'\u001B[39m\u001B[38;5;124mlocation\u001B[39m\u001B[38;5;124m'\u001B[39m], appointment[\u001B[38;5;124m'\u001B[39m\u001B[38;5;124mappointment_date\u001B[39m\u001B[38;5;124m'\u001B[39m]) \u001B[38;5;28;01mfor\u001B[39;00m appointment \u001B[38;5;129;01min\u001B[39;00m appointments_in_slot_new]\n",
      "File \u001B[1;32m~\\Desktop\\Appointment-Optimization-G22\\Algorithms\\clarke_wright.py:139\u001B[0m, in \u001B[0;36mClarkeWright.solve\u001B[1;34m(self, timeslot, path)\u001B[0m\n\u001B[0;32m    137\u001B[0m \u001B[38;5;28;01melif\u001B[39;00m routes[start_point][\u001B[38;5;241m0\u001B[39m] \u001B[38;5;129;01mis\u001B[39;00m row[\u001B[38;5;124m'\u001B[39m\u001B[38;5;124mEnd\u001B[39m\u001B[38;5;124m'\u001B[39m] \u001B[38;5;129;01mand\u001B[39;00m routes[end_point][\u001B[38;5;241m0\u001B[39m] \u001B[38;5;129;01mis\u001B[39;00m row[\u001B[38;5;124m'\u001B[39m\u001B[38;5;124mStart\u001B[39m\u001B[38;5;124m'\u001B[39m]:\n\u001B[0;32m    138\u001B[0m     merged_route \u001B[38;5;241m=\u001B[39m routes[start_point][::\u001B[38;5;241m-\u001B[39m\u001B[38;5;241m1\u001B[39m] \u001B[38;5;241m+\u001B[39m routes[end_point]\n\u001B[1;32m--> 139\u001B[0m \u001B[38;5;28;01melif\u001B[39;00m \u001B[43mmerged_route\u001B[49m\u001B[43m[\u001B[49m\u001B[43mstart_point\u001B[49m\u001B[43m]\u001B[49m[\u001B[38;5;241m-\u001B[39m\u001B[38;5;241m1\u001B[39m] \u001B[38;5;129;01mis\u001B[39;00m row[\u001B[38;5;124m'\u001B[39m\u001B[38;5;124mStart\u001B[39m\u001B[38;5;124m'\u001B[39m] \u001B[38;5;129;01mand\u001B[39;00m routes[end_point][\u001B[38;5;241m-\u001B[39m\u001B[38;5;241m1\u001B[39m] \u001B[38;5;129;01mis\u001B[39;00m row[\u001B[38;5;124m'\u001B[39m\u001B[38;5;124mEnd\u001B[39m\u001B[38;5;124m'\u001B[39m]:\n\u001B[0;32m    140\u001B[0m     merged_route \u001B[38;5;241m=\u001B[39m routes[start_point] \u001B[38;5;241m+\u001B[39m routes[end_point][::\u001B[38;5;241m-\u001B[39m\u001B[38;5;241m1\u001B[39m]\n\u001B[0;32m    141\u001B[0m \u001B[38;5;28;01melif\u001B[39;00m merged_route[start_point][\u001B[38;5;241m-\u001B[39m\u001B[38;5;241m1\u001B[39m] \u001B[38;5;129;01mis\u001B[39;00m row[\u001B[38;5;124m'\u001B[39m\u001B[38;5;124mEnd\u001B[39m\u001B[38;5;124m'\u001B[39m] \u001B[38;5;129;01mand\u001B[39;00m routes[end_point][\u001B[38;5;241m-\u001B[39m\u001B[38;5;241m1\u001B[39m] \u001B[38;5;129;01mis\u001B[39;00m row[\u001B[38;5;124m'\u001B[39m\u001B[38;5;124mStart\u001B[39m\u001B[38;5;124m'\u001B[39m]:\n",
      "\u001B[1;31mIndexError\u001B[0m: list index out of range"
     ]
    }
   ],
   "execution_count": 66
  },
  {
   "metadata": {},
   "cell_type": "markdown",
   "source": "# test offline case",
   "id": "29f49b7bdcf04042"
  },
  {
   "metadata": {
    "ExecuteTime": {
     "end_time": "2024-06-12T14:13:31.601821Z",
     "start_time": "2024-06-12T14:13:31.585382Z"
    }
   },
   "cell_type": "code",
   "source": [
    "def offline_use_case(clients, batch_size, distance_matrix_path):\n",
    "    start_date = min(client.appointment_time for client in clients)\n",
    "    end_date = max(client.appointment_time for client in clients)\n",
    "    current_date = start_date\n",
    "\n",
    "    appointments_data = []\n",
    "\n",
    "    while current_date <= end_date:\n",
    "        batch_clients = [client for client in clients if current_date <= client.appointment_time < current_date + timedelta(days=batch_size)]\n",
    "\n",
    "        if batch_clients:\n",
    "            for client in batch_clients:\n",
    "                client.set_scheduled(current_date.strftime(\"%Y-%m-%d\"))\n",
    "\n",
    "            clarke = ClarkeWright(batch_clients)\n",
    "            for client in batch_clients:\n",
    "                selected_slots = client.availability\n",
    "                user_data = {\n",
    "                    \"username\": client.name,\n",
    "                    \"location\": client.location\n",
    "                }\n",
    "                message, appointments_data = get_definitive_timeslot_clarke(selected_slots, user_data, appointments_data, distance_matrix_path)\n",
    "                print(message)\n",
    "\n",
    "        current_date += timedelta(days=batch_size)"
   ],
   "id": "a70956501755f9e0",
   "outputs": [],
   "execution_count": 67
  },
  {
   "metadata": {
    "ExecuteTime": {
     "end_time": "2024-06-12T14:13:32.202791Z",
     "start_time": "2024-06-12T14:13:32.173211Z"
    }
   },
   "cell_type": "code",
   "source": [
    "print(\"\\nOffline Use Case Results:\")\n",
    "offline_use_case(clients, config['batch_size'], config['distance_matrix_path'])"
   ],
   "id": "932f8a9fcca3f8c",
   "outputs": [
    {
     "name": "stdout",
     "output_type": "stream",
     "text": [
      "\n",
      "Offline Use Case Results:\n"
     ]
    },
    {
     "ename": "TypeError",
     "evalue": "can only concatenate str (not \"datetime.timedelta\") to str",
     "output_type": "error",
     "traceback": [
      "\u001B[1;31m---------------------------------------------------------------------------\u001B[0m",
      "\u001B[1;31mTypeError\u001B[0m                                 Traceback (most recent call last)",
      "Cell \u001B[1;32mIn[68], line 2\u001B[0m\n\u001B[0;32m      1\u001B[0m \u001B[38;5;28mprint\u001B[39m(\u001B[38;5;124m\"\u001B[39m\u001B[38;5;130;01m\\n\u001B[39;00m\u001B[38;5;124mOffline Use Case Results:\u001B[39m\u001B[38;5;124m\"\u001B[39m)\n\u001B[1;32m----> 2\u001B[0m \u001B[43moffline_use_case\u001B[49m\u001B[43m(\u001B[49m\u001B[43mclients\u001B[49m\u001B[43m,\u001B[49m\u001B[43m \u001B[49m\u001B[43mconfig\u001B[49m\u001B[43m[\u001B[49m\u001B[38;5;124;43m'\u001B[39;49m\u001B[38;5;124;43mbatch_size\u001B[39;49m\u001B[38;5;124;43m'\u001B[39;49m\u001B[43m]\u001B[49m\u001B[43m,\u001B[49m\u001B[43m \u001B[49m\u001B[43mconfig\u001B[49m\u001B[43m[\u001B[49m\u001B[38;5;124;43m'\u001B[39;49m\u001B[38;5;124;43mdistance_matrix_path\u001B[39;49m\u001B[38;5;124;43m'\u001B[39;49m\u001B[43m]\u001B[49m\u001B[43m)\u001B[49m\n",
      "Cell \u001B[1;32mIn[67], line 9\u001B[0m, in \u001B[0;36moffline_use_case\u001B[1;34m(clients, batch_size, distance_matrix_path)\u001B[0m\n\u001B[0;32m      6\u001B[0m appointments_data \u001B[38;5;241m=\u001B[39m []\n\u001B[0;32m      8\u001B[0m \u001B[38;5;28;01mwhile\u001B[39;00m current_date \u001B[38;5;241m<\u001B[39m\u001B[38;5;241m=\u001B[39m end_date:\n\u001B[1;32m----> 9\u001B[0m     batch_clients \u001B[38;5;241m=\u001B[39m [client \u001B[38;5;28;01mfor\u001B[39;00m client \u001B[38;5;129;01min\u001B[39;00m clients \u001B[38;5;28;01mif\u001B[39;00m current_date \u001B[38;5;241m<\u001B[39m\u001B[38;5;241m=\u001B[39m client\u001B[38;5;241m.\u001B[39mappointment_time \u001B[38;5;241m<\u001B[39m current_date \u001B[38;5;241m+\u001B[39m timedelta(days\u001B[38;5;241m=\u001B[39mbatch_size)]\n\u001B[0;32m     11\u001B[0m     \u001B[38;5;28;01mif\u001B[39;00m batch_clients:\n\u001B[0;32m     12\u001B[0m         \u001B[38;5;28;01mfor\u001B[39;00m client \u001B[38;5;129;01min\u001B[39;00m batch_clients:\n",
      "Cell \u001B[1;32mIn[67], line 9\u001B[0m, in \u001B[0;36m<listcomp>\u001B[1;34m(.0)\u001B[0m\n\u001B[0;32m      6\u001B[0m appointments_data \u001B[38;5;241m=\u001B[39m []\n\u001B[0;32m      8\u001B[0m \u001B[38;5;28;01mwhile\u001B[39;00m current_date \u001B[38;5;241m<\u001B[39m\u001B[38;5;241m=\u001B[39m end_date:\n\u001B[1;32m----> 9\u001B[0m     batch_clients \u001B[38;5;241m=\u001B[39m [client \u001B[38;5;28;01mfor\u001B[39;00m client \u001B[38;5;129;01min\u001B[39;00m clients \u001B[38;5;28;01mif\u001B[39;00m current_date \u001B[38;5;241m<\u001B[39m\u001B[38;5;241m=\u001B[39m client\u001B[38;5;241m.\u001B[39mappointment_time \u001B[38;5;241m<\u001B[39m \u001B[43mcurrent_date\u001B[49m\u001B[43m \u001B[49m\u001B[38;5;241;43m+\u001B[39;49m\u001B[43m \u001B[49m\u001B[43mtimedelta\u001B[49m\u001B[43m(\u001B[49m\u001B[43mdays\u001B[49m\u001B[38;5;241;43m=\u001B[39;49m\u001B[43mbatch_size\u001B[49m\u001B[43m)\u001B[49m]\n\u001B[0;32m     11\u001B[0m     \u001B[38;5;28;01mif\u001B[39;00m batch_clients:\n\u001B[0;32m     12\u001B[0m         \u001B[38;5;28;01mfor\u001B[39;00m client \u001B[38;5;129;01min\u001B[39;00m batch_clients:\n",
      "\u001B[1;31mTypeError\u001B[0m: can only concatenate str (not \"datetime.timedelta\") to str"
     ]
    }
   ],
   "execution_count": 68
  },
  {
   "metadata": {},
   "cell_type": "code",
   "outputs": [],
   "execution_count": null,
   "source": "",
   "id": "dda4d0af06dcbd1b"
  }
 ],
 "metadata": {
  "kernelspec": {
   "display_name": "Python 3",
   "language": "python",
   "name": "python3"
  },
  "language_info": {
   "codemirror_mode": {
    "name": "ipython",
    "version": 2
   },
   "file_extension": ".py",
   "mimetype": "text/x-python",
   "name": "python",
   "nbconvert_exporter": "python",
   "pygments_lexer": "ipython2",
   "version": "2.7.6"
  }
 },
 "nbformat": 4,
 "nbformat_minor": 5
}

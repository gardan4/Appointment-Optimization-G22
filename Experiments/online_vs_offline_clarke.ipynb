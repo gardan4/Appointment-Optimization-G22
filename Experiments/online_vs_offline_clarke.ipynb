{
 "cells": [
  {
   "cell_type": "code",
   "id": "initial_id",
   "metadata": {
    "collapsed": true,
    "ExecuteTime": {
     "end_time": "2024-06-12T13:10:26.492559Z",
     "start_time": "2024-06-12T13:10:26.480546Z"
    }
   },
   "source": [
    "from Algorithms.clarke_wright import ClarkeWright\n",
    "from Algorithms.client import Client\n",
    "import pandas as pd\n",
    "from datetime import datetime, timedelta\n",
    "import random\n",
    "import names"
   ],
   "outputs": [],
   "execution_count": 10
  },
  {
   "metadata": {
    "ExecuteTime": {
     "end_time": "2024-06-12T13:10:41.462465Z",
     "start_time": "2024-06-12T13:10:41.429119Z"
    }
   },
   "cell_type": "code",
   "source": [
    "def generate_client_list(num_clients=50, start_date=\"2024-01-01\", end_date=\"2024-12-31\", \n",
    "                         min_slots=1, max_slots=3, locations=None):\n",
    "    if locations is None:\n",
    "        locations = ['Geldrop', 'Helmond', 'Someren', 'Deurne Vlierden', 'Mierlo']\n",
    "    \n",
    "    date_format = \"%Y-%m-%d\"\n",
    "    start_date = datetime.strptime(start_date, date_format)\n",
    "    end_date = datetime.strptime(end_date, date_format)\n",
    "    date_range = (end_date - start_date).days\n",
    "\n",
    "    timeslots = ['morning', 'afternoon', 'evening']\n",
    "    clients = []\n",
    "\n",
    "    for i in range(num_clients):\n",
    "        name = names.get_first_name()  # Generating random full names\n",
    "        location = random.choice(locations)\n",
    "        \n",
    "        num_slots = random.randint(min_slots, max_slots)\n",
    "        availability = []\n",
    "        for _ in range(num_slots):\n",
    "            day = start_date + timedelta(days=random.randint(0, date_range))\n",
    "            timeslot = random.choice(timeslots)\n",
    "            availability.append(f\"{day.strftime(date_format)}_{timeslot}\")\n",
    "        \n",
    "        appointment_time = start_date + timedelta(days=random.randint(0, date_range))\n",
    "        appointment_time_str = appointment_time.strftime(f\"{date_format} %H:%M:%S\")\n",
    "        \n",
    "        client = Client(name, location, availability, appointment_time_str)\n",
    "        clients.append(client)\n",
    "\n",
    "    return clients\n",
    "\n",
    "config = {\n",
    "    'num_clients': 50,\n",
    "    'start_date': \"2024-01-01\",\n",
    "    'end_date': \"2024-12-31\",\n",
    "    'min_slots': 2,\n",
    "    'max_slots': 2,\n",
    "    'locations': ['Geldrop', 'Helmond', 'Someren', 'Deurne Vlierden', 'Mierlo']\n",
    "}\n",
    "# Example usage:\n",
    "clients = generate_client_list(**config)\n",
    "for i, client in enumerate(clients):\n",
    "    print(f\"Client {i+1}: {client.name}, {client.location}, {client.availability}, {client.appointment_time}\")"
   ],
   "id": "43ad6871aa521ff6",
   "outputs": [
    {
     "name": "stdout",
     "output_type": "stream",
     "text": [
      "Client 1: Britt, Helmond, ['2024-02-27_morning', '2024-12-20_evening'], 2024-02-11 00:00:00\n",
      "Client 2: Judith, Someren, ['2024-04-03_morning', '2024-03-24_afternoon'], 2024-09-24 00:00:00\n",
      "Client 3: Karl, Geldrop, ['2024-02-12_afternoon', '2024-07-14_afternoon'], 2024-10-02 00:00:00\n",
      "Client 4: Jeanette, Helmond, ['2024-07-17_evening', '2024-12-22_afternoon'], 2024-07-15 00:00:00\n",
      "Client 5: Bertha, Geldrop, ['2024-12-22_afternoon', '2024-08-31_afternoon'], 2024-05-06 00:00:00\n",
      "Client 6: Kristan, Mierlo, ['2024-10-20_morning', '2024-09-28_afternoon'], 2024-11-18 00:00:00\n",
      "Client 7: Cindy, Geldrop, ['2024-07-11_evening', '2024-07-16_morning'], 2024-04-17 00:00:00\n",
      "Client 8: Bryan, Mierlo, ['2024-05-17_afternoon', '2024-11-14_evening'], 2024-11-15 00:00:00\n",
      "Client 9: Jim, Deurne Vlierden, ['2024-01-05_evening', '2024-03-31_evening'], 2024-04-03 00:00:00\n",
      "Client 10: Anna, Geldrop, ['2024-04-29_evening', '2024-05-29_evening'], 2024-09-06 00:00:00\n",
      "Client 11: Joann, Geldrop, ['2024-04-27_afternoon', '2024-06-27_evening'], 2024-09-30 00:00:00\n",
      "Client 12: Cordia, Mierlo, ['2024-07-08_afternoon', '2024-06-21_morning'], 2024-07-02 00:00:00\n",
      "Client 13: Alice, Helmond, ['2024-05-16_evening', '2024-10-15_evening'], 2024-06-04 00:00:00\n",
      "Client 14: Cheri, Mierlo, ['2024-06-02_evening', '2024-02-05_morning'], 2024-08-22 00:00:00\n",
      "Client 15: Gregory, Someren, ['2024-12-03_afternoon', '2024-09-16_afternoon'], 2024-10-11 00:00:00\n",
      "Client 16: Scott, Geldrop, ['2024-09-06_morning', '2024-12-21_morning'], 2024-11-10 00:00:00\n",
      "Client 17: Kurt, Mierlo, ['2024-01-02_evening', '2024-04-06_evening'], 2024-04-22 00:00:00\n",
      "Client 18: Dennis, Helmond, ['2024-10-07_evening', '2024-02-22_evening'], 2024-03-28 00:00:00\n",
      "Client 19: James, Someren, ['2024-05-23_afternoon', '2024-02-03_morning'], 2024-08-28 00:00:00\n",
      "Client 20: Christina, Geldrop, ['2024-07-12_afternoon', '2024-01-30_evening'], 2024-02-02 00:00:00\n",
      "Client 21: Leon, Deurne Vlierden, ['2024-05-13_evening', '2024-02-15_morning'], 2024-12-19 00:00:00\n",
      "Client 22: George, Geldrop, ['2024-09-16_afternoon', '2024-01-19_afternoon'], 2024-12-23 00:00:00\n",
      "Client 23: Robert, Mierlo, ['2024-09-22_afternoon', '2024-01-14_morning'], 2024-03-10 00:00:00\n",
      "Client 24: Debra, Geldrop, ['2024-03-13_evening', '2024-12-19_evening'], 2024-11-08 00:00:00\n",
      "Client 25: Jennie, Deurne Vlierden, ['2024-08-19_morning', '2024-06-07_afternoon'], 2024-01-21 00:00:00\n",
      "Client 26: Thelma, Someren, ['2024-10-27_morning', '2024-06-28_afternoon'], 2024-03-10 00:00:00\n",
      "Client 27: William, Helmond, ['2024-03-06_afternoon', '2024-04-25_evening'], 2024-08-22 00:00:00\n",
      "Client 28: Frank, Geldrop, ['2024-11-24_morning', '2024-08-12_evening'], 2024-09-19 00:00:00\n",
      "Client 29: Samuel, Helmond, ['2024-10-15_evening', '2024-04-30_morning'], 2024-06-12 00:00:00\n",
      "Client 30: Majorie, Mierlo, ['2024-07-04_afternoon', '2024-01-17_afternoon'], 2024-05-26 00:00:00\n",
      "Client 31: Jose, Deurne Vlierden, ['2024-11-12_evening', '2024-07-31_morning'], 2024-10-09 00:00:00\n",
      "Client 32: Lori, Mierlo, ['2024-03-05_afternoon', '2024-09-10_afternoon'], 2024-06-10 00:00:00\n",
      "Client 33: Jerilyn, Someren, ['2024-08-15_morning', '2024-09-02_afternoon'], 2024-08-18 00:00:00\n",
      "Client 34: Orlando, Mierlo, ['2024-11-13_morning', '2024-03-26_evening'], 2024-01-26 00:00:00\n",
      "Client 35: Jerry, Geldrop, ['2024-12-25_morning', '2024-08-12_afternoon'], 2024-12-31 00:00:00\n",
      "Client 36: Michael, Geldrop, ['2024-05-16_evening', '2024-08-21_afternoon'], 2024-06-21 00:00:00\n",
      "Client 37: Alice, Mierlo, ['2024-10-29_afternoon', '2024-02-23_morning'], 2024-03-24 00:00:00\n",
      "Client 38: Kathy, Geldrop, ['2024-05-17_morning', '2024-04-25_evening'], 2024-12-14 00:00:00\n",
      "Client 39: Geraldine, Deurne Vlierden, ['2024-12-06_evening', '2024-08-15_evening'], 2024-07-21 00:00:00\n",
      "Client 40: Lynda, Geldrop, ['2024-04-12_morning', '2024-01-08_morning'], 2024-09-21 00:00:00\n",
      "Client 41: Kenneth, Helmond, ['2024-08-22_afternoon', '2024-06-15_morning'], 2024-03-07 00:00:00\n",
      "Client 42: Siobhan, Someren, ['2024-06-24_afternoon', '2024-01-15_morning'], 2024-06-21 00:00:00\n",
      "Client 43: Nolan, Helmond, ['2024-08-12_evening', '2024-02-17_afternoon'], 2024-11-19 00:00:00\n",
      "Client 44: Barbara, Someren, ['2024-03-10_afternoon', '2024-02-24_evening'], 2024-05-11 00:00:00\n",
      "Client 45: Matilda, Someren, ['2024-07-28_morning', '2024-05-22_morning'], 2024-03-16 00:00:00\n",
      "Client 46: Clara, Helmond, ['2024-06-08_evening', '2024-03-23_evening'], 2024-11-04 00:00:00\n",
      "Client 47: Francis, Mierlo, ['2024-03-23_morning', '2024-04-14_afternoon'], 2024-05-12 00:00:00\n",
      "Client 48: Venus, Geldrop, ['2024-10-01_morning', '2024-02-06_afternoon'], 2024-10-26 00:00:00\n",
      "Client 49: Pauline, Someren, ['2024-06-14_morning', '2024-11-03_evening'], 2024-05-21 00:00:00\n",
      "Client 50: John, Geldrop, ['2024-08-03_evening', '2024-06-28_morning'], 2024-04-25 00:00:00\n"
     ]
    }
   ],
   "execution_count": 12
  },
  {
   "metadata": {},
   "cell_type": "code",
   "source": "",
   "id": "a7b8286a18e988a0",
   "outputs": [],
   "execution_count": null
  }
 ],
 "metadata": {
  "kernelspec": {
   "display_name": "Python 3",
   "language": "python",
   "name": "python3"
  },
  "language_info": {
   "codemirror_mode": {
    "name": "ipython",
    "version": 2
   },
   "file_extension": ".py",
   "mimetype": "text/x-python",
   "name": "python",
   "nbconvert_exporter": "python",
   "pygments_lexer": "ipython2",
   "version": "2.7.6"
  }
 },
 "nbformat": 4,
 "nbformat_minor": 5
}
